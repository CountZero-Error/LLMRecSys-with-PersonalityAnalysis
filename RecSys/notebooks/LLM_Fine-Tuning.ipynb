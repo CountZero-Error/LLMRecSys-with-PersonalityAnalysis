{
 "cells": [
  {
   "cell_type": "markdown",
   "id": "4afbe33b-43c9-49ac-b141-d2a62982f31c",
   "metadata": {},
   "source": [
    "# LLM Fine-Tuning for Recommendation System\n",
    "\n",
    "## TABLE OF CONTENT\n",
    "### $~~~$ - 1. Load Data\n",
    "### $~~~$ - 2. Data Transformation\n",
    "### $~~~$ - 3. Model Preparation\n",
    "### $~~~$ - 4. Fine-Tuning\n",
    "### $~~~$ - 5. Save Fine-tuned Model\n",
    "### $~~~$ - 6. Model Test"
   ]
  },
  {
   "cell_type": "markdown",
   "id": "e9fac650-6855-443c-93a2-6c2202e8be17",
   "metadata": {},
   "source": [
    "---\n",
    "## 1. Load Data"
   ]
  },
  {
   "cell_type": "code",
   "execution_count": null,
   "id": "c2f30029-a767-4be7-b646-61aa1aa516f8",
   "metadata": {},
   "outputs": [],
   "source": [
    "from tqdm import tqdm\n",
    "import pandas as pd\n",
    "import os"
   ]
  },
  {
   "cell_type": "code",
   "execution_count": null,
   "id": "51b2307b-d2c2-4420-bb8b-7c31b79fdc96",
   "metadata": {},
   "outputs": [],
   "source": [
    "base_dir = \"../\""
   ]
  },
  {
   "cell_type": "code",
   "execution_count": null,
   "id": "f2a319bb-e0d6-4806-8543-63a95f8f773a",
   "metadata": {},
   "outputs": [],
   "source": [
    "# Load Amazon products datasets\n",
    "products_path = os.path.join(base_dir, 'trainData/amazon_products.train.csv')"
   ]
  },
  {
   "cell_type": "code",
   "execution_count": null,
   "id": "f90a48d5-47c6-4a6b-bc0e-8ec0cf5f7d26",
   "metadata": {},
   "outputs": [],
   "source": [
    "# Read csv\n",
    "products_df = pd.read_csv(products_path)"
   ]
  },
  {
   "cell_type": "code",
   "execution_count": null,
   "id": "46615b68-6a64-45ed-93d7-54faa29ded07",
   "metadata": {},
   "outputs": [],
   "source": [
    "# Display basic information about the datasets\n",
    "print(\"[*] Products Dataset:\")\n",
    "products_df.info()"
   ]
  },
  {
   "cell_type": "code",
   "execution_count": null,
   "id": "847d3917-322b-4734-837d-c7ac59f3049b",
   "metadata": {},
   "outputs": [],
   "source": [
    "products_df.head()"
   ]
  },
  {
   "cell_type": "code",
   "execution_count": null,
   "id": "fdd34590-56a9-44c6-8284-cb9cce6eff5a",
   "metadata": {},
   "outputs": [],
   "source": [
    "# Check for missing values\n",
    "print(\"\\n[*] Missing Values in Products:\")\n",
    "print(products_df.isnull().sum())"
   ]
  },
  {
   "cell_type": "markdown",
   "id": "9e217b39-378e-4c7c-957a-a9bc8a63f262",
   "metadata": {},
   "source": [
    "### Drop NaN PRICE (optional)"
   ]
  },
  {
   "cell_type": "code",
   "execution_count": null,
   "id": "1c9ff390-11bc-4cb6-82df-11bd81228c1d",
   "metadata": {},
   "outputs": [],
   "source": [
    "products_df.dropna(inplace=True)\n",
    "products_df.reset_index(inplace=True, drop=True)\n",
    "products_df.info()"
   ]
  },
  {
   "cell_type": "markdown",
   "id": "2a56750a-a2d4-4522-ba4e-2189650dc214",
   "metadata": {},
   "source": [
    "---\n",
    "## 2. Data Transformation"
   ]
  },
  {
   "cell_type": "code",
   "execution_count": null,
   "id": "3f265d21-4de7-47c3-bb1d-53a119f89b4b",
   "metadata": {},
   "outputs": [],
   "source": [
    "from datasets import Dataset\n",
    "import numpy as np"
   ]
  },
  {
   "cell_type": "code",
   "execution_count": null,
   "id": "8e96db19-eb4f-4616-a70c-0d69d17a01a6",
   "metadata": {},
   "outputs": [],
   "source": [
    "products_df.head()"
   ]
  },
  {
   "cell_type": "code",
   "execution_count": null,
   "id": "4dd649f3-21ce-4bdc-9e37-bee849d1321e",
   "metadata": {},
   "outputs": [],
   "source": [
    "# Total products: 67712\n",
    "#     0:9999  -\n",
    "# 10000:19999 -\n",
    "# 20000:29999 -\n",
    "# 30000:39999 -\n",
    "# 40000:49999 -\n",
    "# 50000:59999 -\n",
    "# 60000:END   -\n",
    "\n",
    "# _products_df = products_df.loc[0:9999, :] # Test\n",
    "_products_df = products_df.loc[:, :]"
   ]
  },
  {
   "cell_type": "code",
   "execution_count": null,
   "id": "481208f0-0fbd-4468-966e-1ce8e8f6db6c",
   "metadata": {},
   "outputs": [],
   "source": [
    "_products_df.columns"
   ]
  },
  {
   "cell_type": "code",
   "execution_count": null,
   "id": "3f598f15-f1b8-4c3d-bdc2-5c4e2106f2b7",
   "metadata": {},
   "outputs": [],
   "source": [
    "def construct_training_text(row):\n",
    "    return (\n",
    "        f\"Product ID: {row['PRODUCT_ID']}\\n\"\n",
    "        f\"Title: {row['TITLE'].replace('\\n', ' ')}\\n\"\n",
    "        f\"Description: {row['DESCRIPTION'].replace('\\n', ' ')}\\n\"\n",
    "        f\"Category: {row['MAIN_CATEGORY']}\\n\"\n",
    "        f\"Average rating: {row['AVERAGE_RATING']}\\n\"\n",
    "        f\"Price: {row['PRICE']}\\n\"\n",
    "        f\"Details: {' | '.join((row['DETAILS'].strip('{}').replace('\\'', '').split(', ')))}\"\n",
    "    )"
   ]
  },
  {
   "cell_type": "code",
   "execution_count": null,
   "id": "7fae462b-1eb6-4577-a219-98df7c57d958",
   "metadata": {},
   "outputs": [],
   "source": [
    "products_text = _products_df.apply(construct_training_text, axis=1).tolist()\n",
    "formatted_df = pd.DataFrame({'PRODUCT_ID': _products_df['PRODUCT_ID'].tolist(), 'RESPONSE': products_text})\n",
    "\n",
    "print(f\"[*] Text format preview:\\n{products_text[0]}\\n\\n{products_text[1]}\")"
   ]
  },
  {
   "cell_type": "markdown",
   "id": "5862fd57-f52b-4b47-bd82-30a6f1d128a9",
   "metadata": {},
   "source": [
    "---\n",
    "## 3. Model Preparation"
   ]
  },
  {
   "cell_type": "code",
   "execution_count": null,
   "id": "9bfd748e-d3c0-4b93-a71e-17ab0a8c3f07",
   "metadata": {},
   "outputs": [],
   "source": [
    "# Check Python vision\n",
    "!python -V\n",
    "# Check CUDA vision\n",
    "!nvcc --version"
   ]
  },
  {
   "cell_type": "code",
   "execution_count": null,
   "id": "2cd93da7-b219-4064-b1c0-1d9f7e5b79cf",
   "metadata": {},
   "outputs": [],
   "source": [
    "from getpass import getpass\n",
    "import torch"
   ]
  },
  {
   "cell_type": "code",
   "execution_count": null,
   "id": "98d5c4e3-bb51-48e6-a69d-682cc734f63d",
   "metadata": {},
   "outputs": [],
   "source": [
    "# Check for GPU Availability\n",
    "device = torch.device(\"cuda\" if torch.cuda.is_available() else \"mps\" if torch.mps.is_available else \"cpu\")\n",
    "#device = 'cpu' # Set to cpu when debugging\n",
    "print(f\"Using device: {device}\")"
   ]
  },
  {
   "cell_type": "code",
   "execution_count": null,
   "id": "3d6e2f89-b177-468f-9cc0-e9a290cb2650",
   "metadata": {},
   "outputs": [],
   "source": [
    "os.environ[\"TOKENIZERS_PARALLELISM\"] = \"false\""
   ]
  },
  {
   "cell_type": "code",
   "execution_count": null,
   "id": "b8f1b291-6992-43fa-8249-6fd649125342",
   "metadata": {},
   "outputs": [],
   "source": [
    "access_token = getpass()\n",
    "os.environ['HUGGINGFACEHUB_API_TOKEN'] = access_token"
   ]
  },
  {
   "cell_type": "markdown",
   "id": "1e25fd9f-0a67-4274-a5f6-6c4034779428",
   "metadata": {},
   "source": [
    "### Llama 3.2-1B"
   ]
  },
  {
   "cell_type": "code",
   "execution_count": null,
   "id": "981fbdcb-2fad-49b7-82ce-571a0f14fa3a",
   "metadata": {},
   "outputs": [],
   "source": [
    "model_id = \"meta-llama/Llama-3.2-1B\"\n",
    "# model_id = \"meta-llama/Llama-3.2-1B-Instruct\""
   ]
  },
  {
   "cell_type": "markdown",
   "id": "b4722116-8a19-41ce-8bb5-0a4087971db4",
   "metadata": {},
   "source": [
    "### Qwen 2.5-1B"
   ]
  },
  {
   "cell_type": "code",
   "execution_count": null,
   "id": "600d661b-0b82-451b-9299-ac926328d043",
   "metadata": {},
   "outputs": [],
   "source": [
    "# model_id = \"Qwen/Qwen2.5-1.5B\"\n",
    "# model_id = \"Qwen/Qwen2.5-1.5B-Instruct\""
   ]
  },
  {
   "cell_type": "markdown",
   "id": "588ae676-64d6-484c-a47b-dd48ef4d1bb3",
   "metadata": {},
   "source": [
    "### Load from Local"
   ]
  },
  {
   "cell_type": "code",
   "execution_count": null,
   "id": "262aa8c9-2c96-49ff-82a1-862ef2f08b5e",
   "metadata": {},
   "outputs": [],
   "source": [
    "# model_id = os.path.join(base_dir, f\"models/{model_id.split('/')[-1]}/Final\")"
   ]
  },
  {
   "cell_type": "markdown",
   "id": "34ae318f-8563-4637-940a-d394ddb2f1b1",
   "metadata": {},
   "source": [
    "### Tokenizer"
   ]
  },
  {
   "cell_type": "code",
   "execution_count": null,
   "id": "6ec40f4a-0364-4bb7-bedb-e0e797cb1b63",
   "metadata": {},
   "outputs": [],
   "source": [
    "from transformers import AutoTokenizer"
   ]
  },
  {
   "cell_type": "code",
   "execution_count": null,
   "id": "07477f03-b56a-4686-beb2-07504be99149",
   "metadata": {},
   "outputs": [],
   "source": [
    "# Load Tokenizer\n",
    "tokenizer = AutoTokenizer.from_pretrained(model_id, token=access_token)\n",
    "\n",
    "tokenizer.pad_token = tokenizer.eos_token\n",
    "tokenizer.padding_side = \"right\"\n",
    "\n",
    "print(\"[*] Tokenizer loaded.\")"
   ]
  },
  {
   "cell_type": "markdown",
   "id": "a6651319-be5f-4f42-a148-4cf26eb04ed8",
   "metadata": {},
   "source": [
    "### Format Data Prompt"
   ]
  },
  {
   "cell_type": "code",
   "execution_count": null,
   "id": "404f2cfe-d622-4766-bf1e-9db6b48e1cb9",
   "metadata": {},
   "outputs": [],
   "source": [
    "data_prompt = \"\"\"Gives product information based on the given product ID.\n",
    "\n",
    "### Input:\n",
    "{}\n",
    "\n",
    "### Response:\n",
    "{}\"\"\"\n",
    "\n",
    "EOS_TOKEN = tokenizer.eos_token\n",
    "def formatting_prompt(examples):\n",
    "    inputs = examples['PRODUCT_ID']\n",
    "    outputs = examples[\"RESPONSE\"]\n",
    "    texts = []\n",
    "    for input_, output in zip(inputs, outputs):\n",
    "        text = data_prompt.format(input_, output) + EOS_TOKEN\n",
    "        texts.append(text)\n",
    "        \n",
    "    return { \"text\" : texts, }"
   ]
  },
  {
   "cell_type": "code",
   "execution_count": null,
   "id": "9e9584c1-727d-4b3d-87bc-778323d19dbe",
   "metadata": {},
   "outputs": [],
   "source": [
    "training_data = Dataset.from_pandas(formatted_df)\n",
    "training_data = training_data.map(formatting_prompt, batched=True, remove_columns=['PRODUCT_ID', 'RESPONSE'])"
   ]
  },
  {
   "cell_type": "code",
   "execution_count": null,
   "id": "8e022296-234b-4f7f-8538-ac8af5f87e07",
   "metadata": {},
   "outputs": [],
   "source": [
    "training_data['text'][0]"
   ]
  },
  {
   "cell_type": "markdown",
   "id": "937e96ba-a1e9-40e1-b164-209d2bc2f8ee",
   "metadata": {},
   "source": [
    "### Check for token length"
   ]
  },
  {
   "cell_type": "code",
   "execution_count": null,
   "id": "69fe73d1-2dbd-44c5-99fe-56e1bbd7bc0d",
   "metadata": {},
   "outputs": [],
   "source": [
    "import matplotlib.pyplot as plt"
   ]
  },
  {
   "cell_type": "code",
   "execution_count": null,
   "id": "f178e66a-aaed-45f8-9896-80743feaa8e4",
   "metadata": {},
   "outputs": [],
   "source": [
    "token_lengths = [len(tokenizer.encode(entry, truncation=False)) for entry in tqdm(training_data['text'])]\n",
    "print(f'[*] Max length: {np.max(token_lengths)}')\n",
    "print(f'[*] length <= 512: {round((len([x for x in token_lengths if x <= 512])/len(token_lengths))*100, 2)}%')\n",
    "print(f'[*] length <= 1024: {round((len([x for x in token_lengths if x <= 1024])/len(token_lengths))*100, 2)}%')"
   ]
  },
  {
   "cell_type": "code",
   "execution_count": null,
   "id": "ff2aa9dd-c62f-4d91-926e-1f66a5cf2912",
   "metadata": {},
   "outputs": [],
   "source": [
    "plt.hist(token_lengths, bins=20)\n",
    "plt.title(\"Token Length Distribution\")\n",
    "plt.xlabel(\"Number of Tokens\")\n",
    "plt.ylabel(\"Frequency\")\n",
    "plt.show()"
   ]
  },
  {
   "cell_type": "markdown",
   "id": "274bda66-031b-4bc1-8c5e-8a6279048bcf",
   "metadata": {},
   "source": [
    "### Tokenization"
   ]
  },
  {
   "cell_type": "code",
   "execution_count": null,
   "id": "2e12bd8d-e7cd-4db6-a482-87377a459742",
   "metadata": {},
   "outputs": [],
   "source": [
    "def tokenize_function(examples):\n",
    "    return tokenizer(\n",
    "        examples[\"text\"],\n",
    "        truncation=True,\n",
    "        max_length=1024, # 512, 1024, 2048\n",
    "        padding=\"max_length\"\n",
    "    )"
   ]
  },
  {
   "cell_type": "code",
   "execution_count": null,
   "id": "18976b4a-7bef-48d0-adc8-cabc83716355",
   "metadata": {},
   "outputs": [],
   "source": [
    "training_data_tokenized = training_data.map(tokenize_function, batched=True, remove_columns=[\"text\"])\n",
    "print(\"[*] Data tokenized.\")"
   ]
  },
  {
   "cell_type": "code",
   "execution_count": null,
   "id": "2f7d8910-49f6-4bed-8022-8a1a07774cf6",
   "metadata": {},
   "outputs": [],
   "source": [
    "print(f\"\\n[*] Tokenized products preview:\\n\\t{training_data_tokenized}\")"
   ]
  },
  {
   "cell_type": "markdown",
   "id": "c5892899-1b93-4ccd-843e-213902e92a77",
   "metadata": {},
   "source": [
    "---\n",
    "## 4. Fine-Tuning"
   ]
  },
  {
   "cell_type": "code",
   "execution_count": null,
   "id": "52d00128-b067-4086-8f67-da4a52f45492",
   "metadata": {},
   "outputs": [],
   "source": [
    "from transformers import AutoModelForCausalLM, DataCollatorForLanguageModeling"
   ]
  },
  {
   "cell_type": "code",
   "execution_count": null,
   "id": "23f9a16b-a95c-4a3b-94ed-caae8b29776e",
   "metadata": {},
   "outputs": [],
   "source": [
    "# Load Model\n",
    "model = AutoModelForCausalLM.from_pretrained(model_id, token=access_token).to(device)\n",
    "print(\"[*] Model loaded.\")"
   ]
  },
  {
   "cell_type": "code",
   "execution_count": null,
   "id": "08c1c9fa-6c11-4848-9ad6-6bdba17b6649",
   "metadata": {},
   "outputs": [],
   "source": [
    "from transformers import TrainingArguments"
   ]
  },
  {
   "cell_type": "code",
   "execution_count": null,
   "id": "53200a0e-3352-4ec5-93ad-cea404361c87",
   "metadata": {},
   "outputs": [],
   "source": [
    "def check_dir_path(path):\n",
    "    if not os.path.exists(path):\n",
    "        print(f'[*] Creating {path}...')\n",
    "        os.mkdir(path)\n",
    "        print('[*] Done.')"
   ]
  },
  {
   "cell_type": "code",
   "execution_count": null,
   "id": "3df4d690-d56e-423f-8041-2deab3dd33b7",
   "metadata": {},
   "outputs": [],
   "source": [
    "trainer_dir = os.path.join(base_dir, f\"models/{model_id.split('/')[-1]}/Trainer\")\n",
    "check_dir_path(trainer_dir)\n",
    "\n",
    "log_dir = os.path.join(base_dir, f\"models/{model_id.split('/')[-1]}/Log\")\n",
    "check_dir_path(log_dir)"
   ]
  },
  {
   "cell_type": "code",
   "execution_count": null,
   "id": "d722f435-3c46-40f8-bf9c-690625764dec",
   "metadata": {},
   "outputs": [],
   "source": [
    "# Training hyperparameters\n",
    "training_args = TrainingArguments(\n",
    "    output_dir=trainer_dir,\n",
    "    overwrite_output_dir=True,\n",
    "    num_train_epochs=3,\n",
    "    per_device_train_batch_size=4,\n",
    "    gradient_accumulation_steps=4,\n",
    "    learning_rate=3e-5,\n",
    "    warmup_steps=500,\n",
    "    weight_decay=0.01,\n",
    "    logging_steps=10000,\n",
    "    logging_dir=log_dir,\n",
    "    save_steps=30000,\n",
    "    save_total_limit=1,\n",
    "    fp16=True,\n",
    "    optim=\"adamw_torch\",\n",
    "    dataloader_num_workers=2,\n",
    ")"
   ]
  },
  {
   "cell_type": "code",
   "execution_count": null,
   "id": "a741ab79-dd35-4b5a-930a-8b0d10ee1198",
   "metadata": {},
   "outputs": [],
   "source": [
    "data_collator = DataCollatorForLanguageModeling(\n",
    "    tokenizer=tokenizer,\n",
    "    mlm=False  # Causal Language Modeling\n",
    ")"
   ]
  },
  {
   "cell_type": "code",
   "execution_count": null,
   "id": "cdb16f15-38dc-476a-8fe7-5381834f8cc6",
   "metadata": {},
   "outputs": [],
   "source": [
    "import evaluate"
   ]
  },
  {
   "cell_type": "code",
   "execution_count": null,
   "id": "1fb4683d-7c22-4859-ac22-a5a64ad49e7b",
   "metadata": {},
   "outputs": [],
   "source": [
    "metric = evaluate.load(\"accuracy\")"
   ]
  },
  {
   "cell_type": "code",
   "execution_count": null,
   "id": "78f2e476-1d0a-4ccd-be02-1a8f8e74779f",
   "metadata": {},
   "outputs": [],
   "source": [
    "def compute_metrics(eval_pred):\n",
    "    logits, labels = eval_pred\n",
    "    predictions = np.argmax(logits, axis=-1)\n",
    "    \n",
    "    return metric.compute(predictions=predictions, references=labels)"
   ]
  },
  {
   "cell_type": "markdown",
   "id": "569bafee-fd2f-4211-9ad2-a2cc0ac0dc38",
   "metadata": {},
   "source": [
    "### Train"
   ]
  },
  {
   "cell_type": "code",
   "execution_count": null,
   "id": "3739c434-90cf-4dab-ab4c-beff66b3179f",
   "metadata": {},
   "outputs": [],
   "source": [
    "from transformers import Trainer"
   ]
  },
  {
   "cell_type": "code",
   "execution_count": null,
   "id": "6fb2f70b-d60d-4715-a68c-98e316ee1bd6",
   "metadata": {},
   "outputs": [],
   "source": [
    "# Trainer for products\n",
    "trainer = Trainer(\n",
    "    model=model,\n",
    "    args=training_args,\n",
    "    train_dataset=training_data_tokenized,\n",
    "    processing_class=tokenizer,\n",
    "    data_collator=data_collator,\n",
    "    compute_metrics=compute_metrics,\n",
    ")"
   ]
  },
  {
   "cell_type": "code",
   "execution_count": null,
   "id": "4ee643e6-ac8c-4f5f-ba08-f48a7b99bad6",
   "metadata": {},
   "outputs": [],
   "source": [
    "trainer.train()"
   ]
  },
  {
   "cell_type": "markdown",
   "id": "13eeb079-ff65-46ab-ab6c-2bf667e976ef",
   "metadata": {},
   "source": [
    "---\n",
    "## 5. Save Fine-tuned Model"
   ]
  },
  {
   "cell_type": "code",
   "execution_count": null,
   "id": "e2f35a3e-96a9-4daf-91e5-f5f058422186",
   "metadata": {},
   "outputs": [],
   "source": [
    "# Save Fine-Tuned Model\n",
    "output_dir = os.path.join(base_dir, f\"models/{model_id.split('/')[-1]}/Final\")\n",
    "\n",
    "if not os.path.exists(output_dir):\n",
    "    os.mkdir(output_dir)"
   ]
  },
  {
   "cell_type": "code",
   "execution_count": null,
   "id": "936c6cfb-3565-4ef3-a5d6-2e36bbe46efd",
   "metadata": {},
   "outputs": [],
   "source": [
    "trainer.save_model(output_dir)\n",
    "tokenizer.save_pretrained(output_dir)\n",
    "print(f\"[*] Model saved to {output_dir}\")"
   ]
  },
  {
   "cell_type": "code",
   "execution_count": null,
   "id": "40164868-7789-467e-8684-957dc23d8146",
   "metadata": {},
   "outputs": [],
   "source": [
    "# Save to hugging face\n",
    "# from huggingface_hub import notebook_login\n",
    "\n",
    "# notebook_login()"
   ]
  },
  {
   "cell_type": "code",
   "execution_count": null,
   "id": "00153abd-30df-4785-b5b0-f522c5a7dcb9",
   "metadata": {},
   "outputs": [],
   "source": [
    "# model.push_to_hub(f\"CountZero404/{model_id.split('/')[-1]}-RecSys\", variant=\"fp16\")\n",
    "# tokenizer.push_to_hub(f\"CountZero404/{model_id.split('/')[-1]}-RecSys\", variant=\"fp16\")"
   ]
  },
  {
   "cell_type": "markdown",
   "id": "e589d552-ad7e-4612-9dbf-e227bf0d843d",
   "metadata": {},
   "source": [
    "## 6. Model Test"
   ]
  },
  {
   "cell_type": "code",
   "execution_count": null,
   "id": "8810ae2f-ab8a-4a36-94b7-d4e31f1d4505",
   "metadata": {},
   "outputs": [],
   "source": [
    "def generate_question(query_type, query_value):\n",
    "    if query_type == \"PRODUCT_ID\":\n",
    "        prompt = f\"Please provide information for this product with product ID {query_value}:\\n\"\n",
    "    elif query_type == \"TITLE\":\n",
    "        prompt = f\"Please provide information for this product with title '{query_value}':\\n\"\n",
    "    else:\n",
    "        raise ValueError(\"Invalid query type. Use 'PRODUCT_ID' or 'TITLE'.\")\n",
    "    \n",
    "    return prompt"
   ]
  },
  {
   "cell_type": "code",
   "execution_count": null,
   "id": "e0291eaa-5d26-4c7f-af85-17f36b8e601f",
   "metadata": {},
   "outputs": [],
   "source": [
    "def generate_response(model, tokenizer, test_inputs: list):\n",
    "    for input_text in test_inputs:\n",
    "        model_input = tokenizer(input_text, return_tensors=\"pt\").to(device)\n",
    "        # print(f'Input ids: {model_input[\"input_ids\"]}')\n",
    "        # print(f'Attention Mask: {model_input['attention_mask']}\\n')\n",
    "        \n",
    "        model.eval()\n",
    "        with torch.no_grad():\n",
    "            output_ids = model.generate(\n",
    "                input_ids=model_input[\"input_ids\"], \n",
    "                attention_mask=model_input['attention_mask'], \n",
    "                pad_token_id=tokenizer.pad_token_id,\n",
    "                max_new_tokens=300\n",
    "            )[0]\n",
    "            \n",
    "            response = tokenizer.decode(\n",
    "                output_ids, \n",
    "                skip_special_tokens=True\n",
    "            )\n",
    "            \n",
    "            print(response)"
   ]
  },
  {
   "cell_type": "markdown",
   "id": "177c3b21-8524-4e21-bf9a-8aa4b7a1b156",
   "metadata": {},
   "source": [
    "### Random product"
   ]
  },
  {
   "cell_type": "code",
   "execution_count": null,
   "id": "4f91e7d7-606d-4174-808b-ccb489c5b46f",
   "metadata": {},
   "outputs": [],
   "source": [
    "from time import time \n",
    "import random"
   ]
  },
  {
   "cell_type": "code",
   "execution_count": null,
   "id": "647d1ed4-8ffb-44ee-a291-0bdd2c3e846a",
   "metadata": {},
   "outputs": [],
   "source": [
    "random.seed(time())"
   ]
  },
  {
   "cell_type": "code",
   "execution_count": null,
   "id": "961dc006-9b0a-424e-86c9-eefc69c3a92f",
   "metadata": {},
   "outputs": [],
   "source": [
    "def retrieve_product_information(df, query_type, query_value):\n",
    "    if query_type == \"PRODUCT_ID\":\n",
    "        product_index = df.index[df['PRODUCT_ID'] == query_value].tolist()[0]\n",
    "    elif query_type == \"TITLE\":\n",
    "        product_index = df.index[df['TITLE'] == query_value].tolist()[0]\n",
    "    else:\n",
    "        raise ValueError(\"Invalid query type. Use 'PRODUCT_ID' or 'TITLE'.\")\n",
    "        \n",
    "    print(construct_training_text(df.loc[product_index, :]))"
   ]
  },
  {
   "cell_type": "code",
   "execution_count": null,
   "id": "fef0f0d8-a496-4ac1-bd68-c2a0493ece00",
   "metadata": {},
   "outputs": [],
   "source": [
    "random_product_id = random.choice(_products_df['PRODUCT_ID'])\n",
    "retrieve_product_information(_products_df, 'PRODUCT_ID', random_product_id)"
   ]
  },
  {
   "cell_type": "code",
   "execution_count": null,
   "id": "9c306375-7883-4526-b880-160c0a970e5f",
   "metadata": {},
   "outputs": [],
   "source": [
    "formatted_question = generate_question(\"PRODUCT_ID\", random_product_id)\n",
    "print(f'[*] Formatted Question: {formatted_question}')"
   ]
  },
  {
   "cell_type": "code",
   "execution_count": null,
   "id": "8883f9d9-5c47-458f-8b59-4968380be63f",
   "metadata": {},
   "outputs": [],
   "source": [
    "test_inputs = [formatted_question,]\n",
    "generate_response(model, tokenizer, test_inputs)"
   ]
  },
  {
   "cell_type": "code",
   "execution_count": null,
   "id": "40bd7640-0e14-47d5-bd11-573e2302bcc4",
   "metadata": {},
   "outputs": [],
   "source": []
  }
 ],
 "metadata": {
  "kernelspec": {
   "display_name": "LLM",
   "language": "python",
   "name": "llm"
  },
  "language_info": {
   "codemirror_mode": {
    "name": "ipython",
    "version": 3
   },
   "file_extension": ".py",
   "mimetype": "text/x-python",
   "name": "python",
   "nbconvert_exporter": "python",
   "pygments_lexer": "ipython3",
   "version": "3.12.3"
  }
 },
 "nbformat": 4,
 "nbformat_minor": 5
}
