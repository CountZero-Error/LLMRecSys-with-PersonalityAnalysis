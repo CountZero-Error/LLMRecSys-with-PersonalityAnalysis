{
 "cells": [
  {
   "cell_type": "markdown",
   "id": "8f12db5f-f8db-4779-a2bb-858fe22202e0",
   "metadata": {},
   "source": [
    "# LLM for Recommendation System - RAG\n",
    "\n",
    "## TABLE OF CONTENT\n",
    "### $~~~$ - 1. Recommendation System\n",
    "### $~~~$ - 2. Result Interpretation"
   ]
  },
  {
   "cell_type": "markdown",
   "id": "8838102f-2bd4-4f3f-bc10-2115dfbe6a30",
   "metadata": {},
   "source": [
    "---\n",
    "## 1. Recommendation System"
   ]
  },
  {
   "cell_type": "code",
   "execution_count": null,
   "id": "b50b3d38-ee00-49e9-a6de-ee2a2f3a5ca2",
   "metadata": {},
   "outputs": [],
   "source": [
    "# Check Python vision\n",
    "!python -V\n",
    "# Check CUDA vision\n",
    "!nvcc --version"
   ]
  },
  {
   "cell_type": "code",
   "execution_count": null,
   "id": "b3500fbf-bbbb-4e40-8f65-4727a0c49dee",
   "metadata": {},
   "outputs": [],
   "source": [
    "from transformers import AutoTokenizer, AutoModelForCausalLM\n",
    "from langchain_huggingface import HuggingFaceEmbeddings\n",
    "from langchain.vectorstores import FAISS\n",
    "from transformers import pipeline\n",
    "from getpass import getpass\n",
    "from time import time\n",
    "import pandas as pd\n",
    "import numpy as np\n",
    "import random\n",
    "import torch\n",
    "import os\n",
    "import re"
   ]
  },
  {
   "cell_type": "code",
   "execution_count": null,
   "id": "11be73e3-1784-4091-9074-d17e37915c35",
   "metadata": {},
   "outputs": [],
   "source": [
    "# Check for GPU Availability\n",
    "device = torch.device(\"cuda\" if torch.cuda.is_available() else \"cpu\")\n",
    "#device = 'cpu' # Set to cpu when debugging\n",
    "print(f\"Using device: {device}\")\n",
    "\n",
    "os.environ[\"TOKENIZERS_PARALLELISM\"] = \"false\"\n",
    "access_token = getpass(\"Enter access token: \")\n",
    "os.environ['HUGGINGFACEHUB_API_TOKEN'] = access_token\n",
    "\n",
    "base_dir = \"../..\""
   ]
  },
  {
   "cell_type": "code",
   "execution_count": null,
   "id": "8f88669f-7054-41ad-8891-4e4850e557d0",
   "metadata": {},
   "outputs": [],
   "source": [
    "model_id = \"meta-llama/Llama-3.2-1B-Instruct\"\n",
    "# model_id = \"Qwen/Qwen2.5-1.5B-Instruct\"\n",
    "\n",
    "# Load Tokenizer\n",
    "tokenizer = AutoTokenizer.from_pretrained(model_id, token=access_token)\n",
    "tokenizer.pad_token = tokenizer.eos_token\n",
    "tokenizer.padding_side = \"right\"\n",
    "print(\"[*] Tokenizer loaded.\")\n",
    "\n",
    "# Load Model\n",
    "model = AutoModelForCausalLM.from_pretrained(\n",
    "    model_id, \n",
    "    token=access_token,\n",
    ").to(device)\n",
    "print(\"[*] Model loaded.\")"
   ]
  },
  {
   "cell_type": "code",
   "execution_count": null,
   "id": "bb8462da-334e-42c3-b012-65f29b074910",
   "metadata": {},
   "outputs": [],
   "source": [
    "embedding_model_id = \"sentence-transformers/all-MiniLM-L6-v2\"\n",
    "embedding_model = HuggingFaceEmbeddings(\n",
    "    model_name=embedding_model_id,\n",
    "    multi_process=True,\n",
    "    model_kwargs={\"device\": device},\n",
    "    encode_kwargs={\"normalize_embeddings\": True},  # Set `True` for cosine similarity\n",
    ")\n",
    "\n",
    "vector_db_dir = os.path.join(base_dir, 'Vector_DB')\n",
    "KNOWLEDGE_VECTOR_DATABASE = FAISS.load_local(\n",
    "    vector_db_dir,\n",
    "    embeddings=embedding_model,\n",
    "    allow_dangerous_deserialization=True,\n",
    ")"
   ]
  },
  {
   "cell_type": "code",
   "execution_count": null,
   "id": "6f9ee3bb06f7da9",
   "metadata": {},
   "outputs": [],
   "source": [
    "formatted_df = pd.read_csv(os.path.join(base_dir, 'trainData/amazon_products.train.formatted.csv'))\n",
    "\n",
    "def retrieve_product_information(df, query_value):\n",
    "    product_index = df.index[df['PRODUCT_ID'] == query_value].tolist()[0]\n",
    "    full_text = df.loc[product_index, 'TEXT']\n",
    "    product_id = df.loc[product_index, 'PRODUCT_ID']\n",
    "    print(f'[*] Retrieved product full content:\\n{full_text}')\n",
    "\n",
    "    return df.loc[product_index, 'DESCRIPTION'], full_text, product_id"
   ]
  },
  {
   "cell_type": "code",
   "execution_count": null,
   "id": "b349311100dd9a3b",
   "metadata": {},
   "outputs": [],
   "source": [
    "Rec_LLM = pipeline(\n",
    "    model=model,\n",
    "    tokenizer=tokenizer,\n",
    "    task=\"text-generation\",\n",
    "    do_sample=True,\n",
    "    temperature=0.2,\n",
    "    repetition_penalty=1.1,\n",
    "    return_full_text=False,\n",
    "    max_new_tokens=1000,\n",
    "    device=device\n",
    ")"
   ]
  },
  {
   "cell_type": "code",
   "execution_count": null,
   "id": "9494bf6a-84ab-4705-905b-609c128428a3",
   "metadata": {},
   "outputs": [],
   "source": [
    "prompt_in_chat_format = [\n",
    "    {\n",
    "        \"role\": \"system\",\n",
    "        \"content\": \"\"\"Using the information contained in context, give a comprehensive answer to the question.\n",
    "Respond only to the question asked, response should be concise and relevant to the question.\n",
    "Information of recommended products must be correct and matched in context, do not falsify information.\n",
    "If the answer cannot be deduced from the context, do not give an answer.\n",
    "\n",
    "Response must include product id, title, and reason for recommendation.\n",
    "Response must strictly follow the template below:\n",
    "i. **Product ID: <Product ID>** - <Title>\n",
    "Reason: <Reason>\n",
    "\n",
    "Answer examples:\n",
    "1. **Product ID: B0C3WNM5X7** - Simple Joys by Carter's Toddler Boys' Hooded Sweater Jacket with Sherpa Lining\n",
    "Reason: This product is highly rated with an average rating of 4.8, offering excellent value for its price.\n",
    "\n",
    "2. **Product ID: B0C1X12894** - Oversized Wearable Blanket Hoodie for Women Men Comfy Sweatshirt\n",
    "Reason: This product is highly rated with an average rating of 4.8, making it a great option for those looking for a cozy and warm garment.\n",
    "\n",
    "3. **Product ID: B0C68CBFKS** - Columbia Women's West Bend Hoodie\n",
    "Reason: This product is highly rated with an average rating of 4.4, offering a reliable and affordable option for casual wear.\"\"\",\n",
    "    },\n",
    "    {\n",
    "        \"role\": \"user\",\n",
    "        \"content\": \"\"\"Context:\n",
    "{context}\n",
    "\n",
    "---\n",
    "\n",
    "Now here is the question you need to answer.\n",
    "\n",
    "Question: {question}\"\"\",\n",
    "    },\n",
    "]\n",
    "\n",
    "RAG_PROMPT_TEMPLATE = tokenizer.apply_chat_template(\n",
    "    prompt_in_chat_format, tokenize=False, add_generation_prompt=True\n",
    ")\n",
    "print(RAG_PROMPT_TEMPLATE)"
   ]
  },
  {
   "cell_type": "code",
   "execution_count": null,
   "id": "e7a4bacf-e443-4bb6-b8e9-1531edf2d026",
   "metadata": {},
   "outputs": [],
   "source": [
    "random.seed(time())\n",
    "random_product_id = random.choice(formatted_df['PRODUCT_ID'])\n",
    "test_description, full_text, target_id = retrieve_product_information(formatted_df, random_product_id)\n",
    "\n",
    "retrieved_docs = KNOWLEDGE_VECTOR_DATABASE.similarity_search(query=test_description, k=11)[1:] # The first one will always be the qurey one, so skip it.\n",
    "retrieved_docs_text = [\n",
    "    doc.metadata['text'] for doc in retrieved_docs\n",
    "]  # We only need the text of the documents\n",
    "\n",
    "context = \"\\nExtracted products:\"\n",
    "context += \"\".join(\n",
    "    [f\"\\n\\nProduct {str(i)}:::\\n\" + doc for i, doc in enumerate(retrieved_docs_text)]\n",
    ")\n",
    "\n",
    "final_prompt = RAG_PROMPT_TEMPLATE.format(\n",
    "    question=\"Base on this product, recommend 5 best products from Context.\", context=context\n",
    ")"
   ]
  },
  {
   "cell_type": "code",
   "execution_count": null,
   "id": "41d6d3f6-c6a3-474a-bf26-aac0e177a116",
   "metadata": {},
   "outputs": [],
   "source": [
    "# Redact an answer\n",
    "recommedations = Rec_LLM(final_prompt)[0][\"generated_text\"]\n",
    "print(recommedations)"
   ]
  },
  {
   "cell_type": "markdown",
   "id": "20f18ba5-893f-44fe-9a00-ced6ef9a467d",
   "metadata": {},
   "source": [
    "---\n",
    "## 2. Result Interpretation"
   ]
  },
  {
   "cell_type": "markdown",
   "id": "5adca9b7-efbe-450b-9d1d-7a525596c5f9",
   "metadata": {},
   "source": [
    "### Umap"
   ]
  },
  {
   "cell_type": "code",
   "execution_count": null,
   "id": "a150364c9273f7a9",
   "metadata": {},
   "outputs": [],
   "source": [
    "# Access the FAISS index\n",
    "faiss_index = KNOWLEDGE_VECTOR_DATABASE.index\n",
    "\n",
    "# Access metadata\n",
    "metadata = KNOWLEDGE_VECTOR_DATABASE.docstore._dict  # Metadata is typically stored here"
   ]
  },
  {
   "cell_type": "code",
   "execution_count": null,
   "id": "ba41973d28959f25",
   "metadata": {},
   "outputs": [],
   "source": [
    "from mpl_toolkits.mplot3d import Axes3D\n",
    "from sklearn.decomposition import PCA\n",
    "import matplotlib.pyplot as plt\n",
    "from tqdm import tqdm\n",
    "import numpy as np"
   ]
  },
  {
   "cell_type": "code",
   "execution_count": null,
   "id": "c81aaadf68937feb",
   "metadata": {},
   "outputs": [],
   "source": [
    "vectors = faiss_index.reconstruct_n(0, faiss_index.ntotal)"
   ]
  },
  {
   "cell_type": "code",
   "execution_count": null,
   "id": "efb85b32592a72e",
   "metadata": {},
   "outputs": [],
   "source": [
    "# Reduce dimensions to 3D\n",
    "pca = PCA(n_components=3)\n",
    "reduced_vectors = pca.fit_transform(vectors)"
   ]
  },
  {
   "cell_type": "code",
   "execution_count": null,
   "id": "fd3f8a1ce433cb6c",
   "metadata": {},
   "outputs": [],
   "source": [
    "# Plot in 3D\n",
    "fig = plt.figure(figsize=(20, 20))\n",
    "ax = fig.add_subplot(111, projection='3d')\n",
    "\n",
    "ax.scatter(\n",
    "    reduced_vectors[:, 0],\n",
    "    reduced_vectors[:, 1],\n",
    "    reduced_vectors[:, 2],\n",
    "    alpha=0.3\n",
    ")\n",
    "\n",
    "ax.set_title(\"3D Visualization of Products Vector Database\", fontsize=40)\n",
    "ax.tick_params(axis='x', labelsize=15)\n",
    "ax.tick_params(axis='y', labelsize=15)\n",
    "ax.tick_params(axis='z', labelsize=15)\n",
    "\n",
    "plt.tight_layout()\n",
    "plt.show()"
   ]
  },
  {
   "cell_type": "markdown",
   "id": "4109660a2296467e",
   "metadata": {},
   "source": [
    "#### show with categories"
   ]
  },
  {
   "cell_type": "code",
   "execution_count": null,
   "id": "59d230c5f84cc40e",
   "metadata": {},
   "outputs": [],
   "source": [
    "vector_categories = {}\n",
    "for i, v in tqdm(enumerate(metadata.values())):\n",
    "    curr_category = v.metadata['category']\n",
    "    vector_categories.setdefault(curr_category, [])\n",
    "    vector_categories[curr_category].append(reduced_vectors[i])"
   ]
  },
  {
   "cell_type": "code",
   "execution_count": null,
   "id": "84e237a121ee7d39",
   "metadata": {},
   "outputs": [],
   "source": [
    "# sort in descending by category length\n",
    "sorted_vector_categories = dict(sorted(vector_categories.items(), key=lambda item: len(item[1]), reverse=True))"
   ]
  },
  {
   "cell_type": "code",
   "execution_count": null,
   "id": "bf96e4772e532925",
   "metadata": {},
   "outputs": [],
   "source": [
    "for k, v in sorted_vector_categories.items():\n",
    "    print(k, len(v))"
   ]
  },
  {
   "cell_type": "code",
   "execution_count": null,
   "id": "bedae1168c6489c4",
   "metadata": {},
   "outputs": [],
   "source": [
    "# Plot in 3D\n",
    "fig = plt.figure(figsize=(20, 20))\n",
    "ax = fig.add_subplot(111, projection='3d')\n",
    "\n",
    "for idx, (subset_name, subset_vectors) in enumerate(sorted_vector_categories.items()):\n",
    "    subset_vectors = np.array(subset_vectors)\n",
    "    ax.scatter(\n",
    "        subset_vectors[:, 0],\n",
    "        subset_vectors[:, 1],\n",
    "        subset_vectors[:, 2],\n",
    "        label=subset_name.lower().title(),  # Add label for the legend\n",
    "        alpha=0.3\n",
    "    )\n",
    "\n",
    "ax.set_title(\"3D Visualization of Products Vector Database\", fontsize=40)\n",
    "ax.tick_params(axis='x', labelsize=15)\n",
    "ax.tick_params(axis='y', labelsize=15)\n",
    "ax.tick_params(axis='z', labelsize=15)\n",
    "ax.legend(fontsize=15)\n",
    "\n",
    "plt.tight_layout()\n",
    "plt.show()"
   ]
  },
  {
   "cell_type": "markdown",
   "id": "a01f09c8-c0c4-45a3-aa2b-4487cff7806e",
   "metadata": {},
   "source": [
    "#### mark selected products"
   ]
  },
  {
   "cell_type": "code",
   "execution_count": null,
   "id": "ca42882d-23eb-40ce-90be-b502d433bedc",
   "metadata": {},
   "outputs": [],
   "source": [
    "pattern = re.compile(r\"\\*\\*(.*)\\*\\*\")\n",
    "ids = [x.split()[-1] for x in pattern.findall(recommedations)]\n",
    "print(ids)"
   ]
  },
  {
   "cell_type": "code",
   "execution_count": null,
   "id": "6312b9cc-9c3f-4782-af2b-d594f65b34eb",
   "metadata": {},
   "outputs": [],
   "source": [
    "recommedation_vectors = {}\n",
    "target_retrieved, recommedations_retrieved = 0, 0\n",
    "for i, v in enumerate(metadata.values()):\n",
    "    curr_id = v.metadata['id']\n",
    "    if curr_id == target_id and target_retrieved == 0:\n",
    "        recommedation_vectors.setdefault('Target Product', [])\n",
    "        recommedation_vectors['Target Product'].append(reduced_vectors[i])\n",
    "        target_retrieved += 1\n",
    "        \n",
    "    elif curr_id in ids and recommedations_retrieved < 5:\n",
    "        recommedation_vectors.setdefault('Recommended Product', [])\n",
    "        recommedation_vectors['Recommended Product'].append(reduced_vectors[i])\n",
    "        recommedations_retrieved += 1"
   ]
  },
  {
   "cell_type": "code",
   "execution_count": null,
   "id": "ca9e0c5c-f397-4584-90f0-d47d10fac288",
   "metadata": {},
   "outputs": [],
   "source": [
    "for k, v in recommedation_vectors.items():\n",
    "    print(f'{k}:{len(v)}')"
   ]
  },
  {
   "cell_type": "code",
   "execution_count": null,
   "id": "1f5bfed6-0add-4229-a7bb-78e6251b4652",
   "metadata": {},
   "outputs": [],
   "source": [
    "# Plot in 3D\n",
    "fig = plt.figure(figsize=(40, 20))\n",
    "\n",
    "'''Vector Database'''\n",
    "ax1 = fig.add_subplot(121, projection='3d')\n",
    "\n",
    "for idx, (subset_name, subset_vectors) in enumerate(sorted_vector_categories.items()):\n",
    "    subset_vectors = np.array(subset_vectors)\n",
    "\n",
    "    # Reduce background size\n",
    "    # subset_vectors_len = len(subset_vectors)\n",
    "    # if subset_vectors_len >= 1000:\n",
    "    #     subset_vectors = subset_vectors[:1000]\n",
    "    # else:\n",
    "    #     subset_vectors = subset_vectors[:int(round(subset_vectors_len/2,0))]\n",
    "    \n",
    "    ax1.scatter(\n",
    "        subset_vectors[:, 0],\n",
    "        subset_vectors[:, 1],\n",
    "        subset_vectors[:, 2],\n",
    "        label=subset_name.lower().title(),  # Add label for the legend\n",
    "        alpha=0.3,\n",
    "    )\n",
    "\n",
    "ax1.set_title(\"3D Visualization of Products Vector Database (Whole)\", fontsize=40)\n",
    "ax1.tick_params(axis='x', labelsize=15)\n",
    "ax1.tick_params(axis='y', labelsize=15)\n",
    "ax1.tick_params(axis='z', labelsize=15)\n",
    "ax1.legend(fontsize=15)\n",
    "\n",
    "'''Target & Recommendation'''\n",
    "ax2 = fig.add_subplot(122, projection='3d')\n",
    "\n",
    "# Vector Database\n",
    "for idx, (subset_name, subset_vectors) in enumerate(sorted_vector_categories.items()):\n",
    "    subset_vectors = np.array(subset_vectors)\n",
    "\n",
    "    # Reduce background size\n",
    "    subset_vectors_len = len(subset_vectors)\n",
    "    if subset_vectors_len >= 1000:\n",
    "        subset_vectors = subset_vectors[:500]\n",
    "    else:\n",
    "        subset_vectors = subset_vectors[:int(round(subset_vectors_len/2,0))]\n",
    "    \n",
    "    ax2.scatter(\n",
    "        subset_vectors[:, 0],\n",
    "        subset_vectors[:, 1],\n",
    "        subset_vectors[:, 2],\n",
    "        label=subset_name.lower().title(),  # Add label for the legend\n",
    "        alpha=0.3,\n",
    "    )\n",
    "    \n",
    "# Target Product & Recommeded Products\n",
    "for idx, (subset_name, subset_vectors) in enumerate(recommedation_vectors.items()):\n",
    "    subset_vectors = np.array(subset_vectors)\n",
    "\n",
    "    marker = 'x'\n",
    "    if subset_name == 'Target Product':\n",
    "        marker = 'o'\n",
    "\n",
    "    ax2.scatter(\n",
    "        subset_vectors[:, 0],\n",
    "        subset_vectors[:, 1],\n",
    "        subset_vectors[:, 2],\n",
    "        label=subset_name,  # Add label for the legend\n",
    "        alpha=1,\n",
    "        marker=marker,\n",
    "        color='black',\n",
    "        linewidths=3,\n",
    "        s=300,\n",
    "    )\n",
    "\n",
    "ax2.set_title(\"3D Visualization of Target Product & Recommended Products\", fontsize=40)\n",
    "ax2.tick_params(axis='x', labelsize=15)\n",
    "ax2.tick_params(axis='y', labelsize=15)\n",
    "ax2.tick_params(axis='z', labelsize=15)\n",
    "ax2.legend(fontsize=15)\n",
    "\n",
    "plt.tight_layout()\n",
    "# plt.savefig('3DVector.png', dpi=300)\n",
    "plt.show()"
   ]
  },
  {
   "cell_type": "markdown",
   "id": "9db00256-de92-4ca1-83cc-73f161b29a94",
   "metadata": {},
   "source": [
    "### Text"
   ]
  },
  {
   "cell_type": "code",
   "execution_count": null,
   "id": "375b31066b1d73da",
   "metadata": {},
   "outputs": [],
   "source": [
    "pattern = re.compile(r\"\\*\\*(.*)\\*\\*\")\n",
    "ids = [x.split()[-1] for x in pattern.findall(recommedations)]\n",
    "print(ids)"
   ]
  },
  {
   "cell_type": "code",
   "execution_count": null,
   "id": "22f11adc1c20e4a6",
   "metadata": {},
   "outputs": [],
   "source": [
    "recommendation_infos = {}\n",
    "for v in tqdm(metadata.values()):\n",
    "    curr_id = v.metadata['id']        \n",
    "    if curr_id in ids:\n",
    "        recommendation_infos.setdefault(curr_id, '')\n",
    "        recommendation_infos[curr_id] = v.metadata['text']"
   ]
  },
  {
   "cell_type": "code",
   "execution_count": null,
   "id": "d12cf823-e010-4b18-9347-91358b79416d",
   "metadata": {},
   "outputs": [],
   "source": [
    "for v in recommendation_infos.values():\n",
    "    print(f'{v}\\n')"
   ]
  },
  {
   "cell_type": "markdown",
   "id": "cf6f3f5f-5011-4b07-93eb-cd83d93de905",
   "metadata": {},
   "source": [
    "### Captum"
   ]
  },
  {
   "cell_type": "code",
   "execution_count": null,
   "id": "ca4bcf59-1f02-492c-9efd-992f9ec3de7b",
   "metadata": {},
   "outputs": [],
   "source": [
    "# from captum.attr import (\n",
    "#     FeatureAblation, \n",
    "#     ShapleyValues,\n",
    "#     LayerIntegratedGradients, \n",
    "#     LLMAttribution, \n",
    "#     LLMGradientAttribution, \n",
    "#     TextTokenInput, \n",
    "#     TextTemplateInput,\n",
    "#     ProductBaselines,\n",
    "# )"
   ]
  },
  {
   "cell_type": "code",
   "execution_count": null,
   "id": "8a0bc21c-9eed-41df-a492-df36bdb83f5d",
   "metadata": {},
   "outputs": [],
   "source": [
    "# lig = LayerIntegratedGradients(model, model.model.embed_tokens)\n",
    "# llm_attr = LLMGradientAttribution(lig, tokenizer)"
   ]
  },
  {
   "cell_type": "code",
   "execution_count": null,
   "id": "4e923b9e-ea5e-4c12-a9a3-38e239699103",
   "metadata": {},
   "outputs": [],
   "source": [
    "# inp = TextTokenInput(\n",
    "#     final_prompt,\n",
    "#     tokenizer,\n",
    "#     skip_tokens=[1],\n",
    "# )\n",
    "# attr_res = llm_attr.attribute(\n",
    "#     inp, \n",
    "#     target=recommedations\n",
    "# )"
   ]
  },
  {
   "cell_type": "code",
   "execution_count": null,
   "id": "eebbbeaf-077a-4b77-805d-6f504d5c81e5",
   "metadata": {},
   "outputs": [],
   "source": [
    "# attr_res.plot_seq_attr(show=True)"
   ]
  },
  {
   "cell_type": "code",
   "execution_count": null,
   "id": "b995806e-3479-4af2-929c-7966ff2a415d",
   "metadata": {},
   "outputs": [],
   "source": [
    "# attr_res.plot_token_attr(show=True)"
   ]
  },
  {
   "cell_type": "code",
   "execution_count": null,
   "id": "62de2e6e-29ec-4a63-924b-00f91185e0b0",
   "metadata": {},
   "outputs": [],
   "source": []
  },
  {
   "cell_type": "code",
   "execution_count": null,
   "id": "ee6ead18-3757-43a0-bb8a-b80072407079",
   "metadata": {},
   "outputs": [],
   "source": [
    "retrieved_docs"
   ]
  },
  {
   "cell_type": "code",
   "execution_count": null,
   "id": "684e84c7-07a9-4811-8e06-3908b41930e5",
   "metadata": {},
   "outputs": [],
   "source": []
  }
 ],
 "metadata": {
  "kernelspec": {
   "display_name": "LLM",
   "language": "python",
   "name": "llm"
  },
  "language_info": {
   "codemirror_mode": {
    "name": "ipython",
    "version": 3
   },
   "file_extension": ".py",
   "mimetype": "text/x-python",
   "name": "python",
   "nbconvert_exporter": "python",
   "pygments_lexer": "ipython3",
   "version": "3.12.3"
  }
 },
 "nbformat": 4,
 "nbformat_minor": 5
}
