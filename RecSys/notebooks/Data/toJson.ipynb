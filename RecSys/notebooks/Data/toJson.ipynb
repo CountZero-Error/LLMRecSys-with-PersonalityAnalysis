{
 "cells": [
  {
   "cell_type": "code",
   "execution_count": null,
   "id": "5d81cfa1-a456-443f-98d3-a88f5c4161c4",
   "metadata": {},
   "outputs": [],
   "source": [
    "import pandas as pd\n",
    "import json"
   ]
  },
  {
   "cell_type": "code",
   "execution_count": null,
   "id": "40c2fbfa-90ef-4d24-b605-5f4adc46e936",
   "metadata": {},
   "outputs": [],
   "source": [
    "# Load the dataset\n",
    "file_path = 'train.100k.csv'  # Replace with the path to your CSV file\n",
    "data = pd.read_csv(file_path)"
   ]
  },
  {
   "cell_type": "code",
   "execution_count": null,
   "id": "7aef3ad4-52b7-4d83-a49c-83bd2e6227cf",
   "metadata": {},
   "outputs": [],
   "source": [
    "# Function to transform a row into the desired JSONL format\n",
    "def transform_row_with_description(row):\n",
    "    return {\n",
    "        \"instruction\": \"Describe the product.\",\n",
    "        \"input\": row[\"TITLE\"],\n",
    "        \"output\": {\n",
    "            \"bullet_points\": row[\"BULLET_POINTS\"],\n",
    "            \"description\": row[\"DESCRIPTION\"]\n",
    "        }\n",
    "    }"
   ]
  },
  {
   "cell_type": "code",
   "execution_count": null,
   "id": "ea8d894a-bedd-4cfb-928c-af46efa84d02",
   "metadata": {},
   "outputs": [],
   "source": [
    "# Transform the dataset to include descriptions\n",
    "transformed_data_with_description = data.apply(transform_row_with_description, axis=1).tolist()"
   ]
  },
  {
   "cell_type": "code",
   "execution_count": null,
   "id": "8255ccbf-7e42-48c6-8e4d-4a621385542c",
   "metadata": {},
   "outputs": [],
   "source": [
    "# Save to a JSONL file\n",
    "output_file_with_description = 'train_transformed_with_description.jsonl'\n",
    "with open(output_file_with_description, 'w') as f:\n",
    "    for entry in transformed_data_with_description:\n",
    "        f.write(json.dumps(entry) + '\\n')\n",
    "\n",
    "print(f\"Data has been transformed and saved to {output_file_with_description}\")"
   ]
  }
 ],
 "metadata": {
  "kernelspec": {
   "display_name": "LLM",
   "language": "python",
   "name": "llm"
  },
  "language_info": {
   "codemirror_mode": {
    "name": "ipython",
    "version": 3
   },
   "file_extension": ".py",
   "mimetype": "text/x-python",
   "name": "python",
   "nbconvert_exporter": "python",
   "pygments_lexer": "ipython3",
   "version": "3.12.3"
  }
 },
 "nbformat": 4,
 "nbformat_minor": 5
}
