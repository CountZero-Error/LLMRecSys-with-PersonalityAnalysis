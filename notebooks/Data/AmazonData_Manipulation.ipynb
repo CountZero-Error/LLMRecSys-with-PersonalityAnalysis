{
 "cells": [
  {
   "cell_type": "markdown",
   "id": "c7a18668-fc7d-4529-ae02-b98cec326bdc",
   "metadata": {},
   "source": [
    "# Amazon Data Manipulation\n",
    "#### Data from Kaggle: [Amazon Sales Dataset](https://www.kaggle.com/datasets/piyushjain16/amazon-product-data)\n",
    "\n",
    "## TABLE OF CONTENT\n",
    "### $~~~$ - 1. Preview\n",
    "### $~~~$ - 2. Drop NaN\n",
    "### $~~~$ - 3. Check PRODUCT_ID Duplication\n",
    "### $~~~$ - 4. Save to CSV\n",
    "### $~~~$ - 5. Visualization"
   ]
  },
  {
   "cell_type": "markdown",
   "id": "139922ff-bbd0-4a43-8c73-ca6cfbaddff6",
   "metadata": {},
   "source": [
    "---\n",
    "## 1. Preview"
   ]
  },
  {
   "cell_type": "code",
   "id": "6ee64526-f3c1-4fd3-b56e-b206413cb3e5",
   "metadata": {},
   "source": [
    "from datasets import load_dataset\n",
    "from tqdm import tqdm\n",
    "import pandas as pd"
   ],
   "outputs": [],
   "execution_count": null
  },
  {
   "cell_type": "code",
   "id": "2346775e-357e-480d-9e64-450f90a42dc3",
   "metadata": {},
   "source": [
    "amazon_products_dataset = load_dataset('Studeni/AMAZON-Products-2023')\n",
    "amazon_products_dataset"
   ],
   "outputs": [],
   "execution_count": null
  },
  {
   "cell_type": "code",
   "id": "05a2d909-8473-4ec9-aabc-b046e9db9650",
   "metadata": {},
   "source": [
    "amazon_products_df = pd.DataFrame(\n",
    "    {\n",
    "        'PRODUCT_ID': amazon_products_dataset['train']['parent_asin'],\n",
    "        'TITLE': [x.replace('\\n', ' ') for x in amazon_products_dataset['train']['title']],\n",
    "        'DESCRIPTION': [x.replace('\\n', ' ') for x in amazon_products_dataset['train']['description']],\n",
    "        'MAIN_CATEGORY': amazon_products_dataset['train']['main_category'],\n",
    "        'CATEGORIES': amazon_products_dataset['train']['categories'],\n",
    "        'AVERAGE_RATING': amazon_products_dataset['train']['average_rating'],\n",
    "        'RATING_NUMBER': amazon_products_dataset['train']['rating_number'],\n",
    "        'PRICE': amazon_products_dataset['train']['price'],\n",
    "        'DETAILS': [x.replace('\\n', ' ') for x in amazon_products_dataset['train']['details']],\n",
    "    }\n",
    ")\n",
    "amazon_products_df.info()"
   ],
   "outputs": [],
   "execution_count": null
  },
  {
   "cell_type": "code",
   "id": "bdeffa17-7bc3-4f5a-8506-eee1af0f24c8",
   "metadata": {},
   "source": [
    "amazon_products_df"
   ],
   "outputs": [],
   "execution_count": null
  },
  {
   "cell_type": "markdown",
   "id": "0bdd3446-f915-4639-996f-4a7a2ecc20c3",
   "metadata": {},
   "source": [
    "---\n",
    "## 2. Drop NaN"
   ]
  },
  {
   "cell_type": "code",
   "id": "7adbe0aa-100d-4d22-9f90-fb52c5c39689",
   "metadata": {},
   "source": [
    "import os"
   ],
   "outputs": [],
   "execution_count": null
  },
  {
   "cell_type": "code",
   "id": "718fa177-e9b6-4f1a-b1cc-8c1877944fc5",
   "metadata": {},
   "source": [
    "amazon_products_df.dropna(subset=['MAIN_CATEGORY'], inplace=True)\n",
    "amazon_products_df.reset_index(inplace=True, drop=True)"
   ],
   "outputs": [],
   "execution_count": null
  },
  {
   "cell_type": "code",
   "id": "848d4ea5-9ed2-4f7f-a026-6ad00a6aa1c7",
   "metadata": {},
   "source": [
    "amazon_products_df.info()"
   ],
   "outputs": [],
   "execution_count": null
  },
  {
   "cell_type": "markdown",
   "id": "fa63cb6c-2971-4681-9795-de508790f7da",
   "metadata": {},
   "source": [
    "---\n",
    "## 3. Check PRODUCT_ID Duplication"
   ]
  },
  {
   "cell_type": "code",
   "id": "9e5073b8-1bbb-4b2e-94d1-960377ee927a",
   "metadata": {},
   "source": [
    "'[*] PRODUCT_ID none duplicate: ' + str(amazon_products_df['PRODUCT_ID'].nunique() == amazon_products_df.shape[0])"
   ],
   "outputs": [],
   "execution_count": null
  },
  {
   "cell_type": "markdown",
   "id": "d86a210e-5cc5-4ac0-b5d5-c2b9f21d7af1",
   "metadata": {},
   "source": [
    "---\n",
    "## 4. Save to CSV"
   ]
  },
  {
   "cell_type": "code",
   "id": "93a44248-b33b-4b8f-a350-d521fdb437d7",
   "metadata": {},
   "source": "base_dir = \"../../trainData\"",
   "outputs": [],
   "execution_count": null
  },
  {
   "cell_type": "code",
   "id": "b83f8b91-67ee-4e9c-9a8a-467c6fef7fcc",
   "metadata": {},
   "source": [
    "amazon_products_df.to_csv(os.path.join(base_dir, 'amazon_products.train.csv'), index=False)"
   ],
   "outputs": [],
   "execution_count": null
  },
  {
   "cell_type": "markdown",
   "id": "dc233990-bf7a-4038-85d6-cb973a4956af",
   "metadata": {},
   "source": [
    "---\n",
    "## 5. Visualization"
   ]
  },
  {
   "cell_type": "code",
   "id": "ec825334-58f2-48b5-a993-8d2e279a2d70",
   "metadata": {},
   "source": [
    "from collections import Counter\n",
    "import matplotlib.pyplot as plt\n",
    "import seaborn as sns\n",
    "import numpy as np"
   ],
   "outputs": [],
   "execution_count": null
  },
  {
   "cell_type": "markdown",
   "id": "ceebdd03-e461-46d0-bc31-a139bb8ae1c3",
   "metadata": {},
   "source": [
    "### Categories"
   ]
  },
  {
   "cell_type": "code",
   "id": "41449b86-b848-41c5-b078-c827980d24dc",
   "metadata": {},
   "source": [
    "categories = Counter(amazon_products_df['MAIN_CATEGORY'])"
   ],
   "outputs": [],
   "execution_count": null
  },
  {
   "cell_type": "code",
   "id": "efc91579-d3b0-4d0c-99c8-40719d4a28d9",
   "metadata": {},
   "source": [
    "descending_categories = dict(categories.most_common())"
   ],
   "outputs": [],
   "execution_count": null
  },
  {
   "cell_type": "code",
   "id": "1bf966e9-d7b9-4fd9-b292-1ffd2e43933c",
   "metadata": {},
   "source": [
    "plt.figure(figsize = (10,8))\n",
    "sns.barplot(x=list(descending_categories.keys()), y=list(descending_categories.values()))\n",
    "plt.xticks(rotation = 90)\n",
    "plt.ylabel(f'Number of Products (Total {amazon_products_df.shape[0]})')\n",
    "plt.title('Amazon Products Categories')\n",
    "plt.show()"
   ],
   "outputs": [],
   "execution_count": null
  },
  {
   "cell_type": "markdown",
   "id": "a5bd6673-31e5-4095-b29b-5130aef6b113",
   "metadata": {},
   "source": [
    "### Description Tokens"
   ]
  },
  {
   "cell_type": "code",
   "id": "677020aa-7a32-465f-8b1b-10557e4fb727",
   "metadata": {},
   "source": [
    "description_length = {}\n",
    "for i in tqdm(amazon_products_df.index):\n",
    "    curr_description_len = len(amazon_products_df.loc[i, 'DESCRIPTION'].split(' '))\n",
    "    description_length.setdefault(curr_description_len, 0)\n",
    "    description_length[curr_description_len] += 1"
   ],
   "outputs": [],
   "execution_count": null
  },
  {
   "cell_type": "code",
   "id": "744d58f2-f6a0-4bdb-92c1-daa8d3516e66",
   "metadata": {},
   "source": [
    "descending_description_length = dict(sorted(description_length.items(), key=lambda item: item[0], reverse=False))"
   ],
   "outputs": [],
   "execution_count": null
  },
  {
   "cell_type": "code",
   "id": "1d60625b-ebeb-4586-9f6c-8f6652c7edd7",
   "metadata": {},
   "source": [
    "plt.figure(figsize = (10,8))\n",
    "sns.barplot(x=list(descending_description_length.keys()), y=list(descending_description_length.values()))\n",
    "plt.xticks([])\n",
    "plt.ylabel('Description Token(1 word) Frequency')\n",
    "plt.xlabel(f'From Token Number {np.min(list(descending_description_length.keys()))} - {np.max(list(descending_description_length.keys()))}')\n",
    "plt.title('Amazon Products Description Tokens Statistic')\n",
    "plt.show()"
   ],
   "outputs": [],
   "execution_count": null
  },
  {
   "cell_type": "code",
   "id": "45b789aa-8549-4a40-be09-a3c5f8beb728",
   "metadata": {},
   "source": [
    "f'Description tokens >= 512 ratio: {round((np.sum([v for k, v in descending_description_length.items() if k <= 512])/amazon_products_df.shape[0])*100, 2)}%'"
   ],
   "outputs": [],
   "execution_count": null
  }
 ],
 "metadata": {
  "kernelspec": {
   "display_name": "Python 3 (ipykernel)",
   "language": "python",
   "name": "python3"
  },
  "language_info": {
   "codemirror_mode": {
    "name": "ipython",
    "version": 3
   },
   "file_extension": ".py",
   "mimetype": "text/x-python",
   "name": "python",
   "nbconvert_exporter": "python",
   "pygments_lexer": "ipython3",
   "version": "3.12.3"
  }
 },
 "nbformat": 4,
 "nbformat_minor": 5
}
