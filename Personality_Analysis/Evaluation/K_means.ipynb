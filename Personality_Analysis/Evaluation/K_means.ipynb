{
 "cells": [
  {
   "cell_type": "code",
   "id": "initial_id",
   "metadata": {
    "collapsed": true,
    "ExecuteTime": {
     "end_time": "2025-01-10T08:25:03.964681Z",
     "start_time": "2025-01-10T08:25:03.004719Z"
    }
   },
   "source": [
    "import pandas as pd\n",
    "from sklearn.cluster import KMeans\n",
    "from sklearn.preprocessing import StandardScaler"
   ],
   "outputs": [],
   "execution_count": 1
  },
  {
   "metadata": {
    "ExecuteTime": {
     "end_time": "2025-01-10T08:25:04.548622Z",
     "start_time": "2025-01-10T08:25:04.518615Z"
    }
   },
   "cell_type": "code",
   "source": [
    "# 加载数据\n",
    "data = pd.read_csv(\"/Users/cookie/Desktop/Test/chunk/chunk_0_final.csv\")"
   ],
   "id": "df4ec6504586a025",
   "outputs": [],
   "execution_count": 2
  },
  {
   "metadata": {
    "ExecuteTime": {
     "end_time": "2025-01-10T08:25:05.073778Z",
     "start_time": "2025-01-10T08:25:05.072021Z"
    }
   },
   "cell_type": "code",
   "source": [
    "# 定义需要提取的类别\n",
    "categories_of_interest = {\n",
    "    \"construction\", \"environment\", \"kitchen\", \"computers\", \"camera\",\n",
    "    \"video\", \"audio\", \"apparel\", \"furniture\", \"auto\", \"kids\", \n",
    "    \"medicine\", \"country_yard\", \"sport\"\n",
    "}"
   ],
   "id": "48dc41c1bdbe4802",
   "outputs": [],
   "execution_count": 3
  },
  {
   "metadata": {
    "ExecuteTime": {
     "end_time": "2025-01-10T08:25:05.556587Z",
     "start_time": "2025-01-10T08:25:05.532716Z"
    }
   },
   "cell_type": "code",
   "source": [
    "# 定义函数提取类别\n",
    "def extract_main_category(category_code):\n",
    "    \"\"\"提取主要类别\"\"\"\n",
    "    if pd.isna(category_code):\n",
    "        return None\n",
    "    split_code = category_code.split(\".\")\n",
    "    if split_code[0] in categories_of_interest:\n",
    "        return split_code[0]  # 提取第一列\n",
    "    if len(split_code) > 1 and split_code[1] in categories_of_interest:\n",
    "        return split_code[1]  # 提取第二列\n",
    "    return None\n",
    "\n",
    "# 处理每个 `most_freq_category` 列，提取主要类别\n",
    "for col in [\"most_freq_category_1\", \"most_freq_category_2\", \"most_freq_category_3\"]:\n",
    "    data[col] = data[col].apply(extract_main_category)\n",
    "\n",
    "# 将三个类别列合并为单一列\n",
    "def merge_categories(row):\n",
    "    \"\"\"按权重顺序返回主要类别\"\"\"\n",
    "    categories = [\n",
    "        (row[\"most_freq_category_1\"], row[\"category_1_activity_weight\"]),\n",
    "        (row[\"most_freq_category_2\"], row[\"category_2_activity_weight\"]),\n",
    "        (row[\"most_freq_category_3\"], row[\"category_3_activity_weight\"])\n",
    "    ]\n",
    "    # 按权重降序排序\n",
    "    categories = sorted(categories, key=lambda x: x[1], reverse=True)\n",
    "    # 返回第一个非空类别\n",
    "    for category, weight in categories:\n",
    "        if category:\n",
    "            return category\n",
    "    return None\n"
   ],
   "id": "58e857a3a25ee45",
   "outputs": [],
   "execution_count": 4
  },
  {
   "metadata": {
    "ExecuteTime": {
     "end_time": "2025-01-10T08:25:06.232244Z",
     "start_time": "2025-01-10T08:25:06.117962Z"
    }
   },
   "cell_type": "code",
   "source": [
    "# 创建主类别列\n",
    "data[\"main_category\"] = data.apply(merge_categories, axis=1)\n",
    "\n",
    "# 打印检查结果\n",
    "print(data[[\"user_id\", \"main_category\"]])"
   ],
   "id": "7e623d150997c11e",
   "outputs": [
    {
     "name": "stdout",
     "output_type": "stream",
     "text": [
      "         user_id main_category\n",
      "0      518753807     computers\n",
      "1      543495796     furniture\n",
      "2      522131081       kitchen\n",
      "3      557224931   environment\n",
      "4      560897827     computers\n",
      "...          ...           ...\n",
      "19995  541809725         audio\n",
      "19996  520011224         audio\n",
      "19997  513205210     computers\n",
      "19998  513678024       kitchen\n",
      "19999  559275712         audio\n",
      "\n",
      "[20000 rows x 2 columns]\n"
     ]
    }
   ],
   "execution_count": 5
  },
  {
   "metadata": {
    "ExecuteTime": {
     "end_time": "2025-01-10T08:25:07.734194Z",
     "start_time": "2025-01-10T08:25:07.723885Z"
    }
   },
   "cell_type": "code",
   "source": [
    "# 对类别进行编码\n",
    "from sklearn.preprocessing import LabelEncoder\n",
    "le = LabelEncoder()\n",
    "data[\"main_category_encoded\"] = le.fit_transform(data[\"main_category\"].fillna(\"unknown\"))\n",
    "\n",
    "# 选择需要的列进行聚类\n",
    "features = [\"main_category_encoded\"]"
   ],
   "id": "9620eafd19acb8e9",
   "outputs": [],
   "execution_count": 6
  },
  {
   "metadata": {
    "ExecuteTime": {
     "end_time": "2025-01-10T08:25:08.848664Z",
     "start_time": "2025-01-10T08:25:08.768029Z"
    }
   },
   "cell_type": "code",
   "source": [
    "# 应用 K-means\n",
    "kmeans = KMeans(n_clusters=14, random_state=42)  # 假设分3类\n",
    "data[\"cluster\"] = kmeans.fit_predict(data[features])"
   ],
   "id": "25434c3b46ad5db4",
   "outputs": [],
   "execution_count": 7
  },
  {
   "metadata": {
    "ExecuteTime": {
     "end_time": "2025-01-10T08:25:09.528835Z",
     "start_time": "2025-01-10T08:25:09.521608Z"
    }
   },
   "cell_type": "code",
   "source": [
    "# Check clustering result\n",
    "print(data[[\"user_id\", \"main_category\", \"cluster\"]])"
   ],
   "id": "b31f978ecff88d5a",
   "outputs": [
    {
     "name": "stdout",
     "output_type": "stream",
     "text": [
      "         user_id main_category  cluster\n",
      "0      518753807     computers        3\n",
      "1      543495796     furniture        2\n",
      "2      522131081       kitchen        6\n",
      "3      557224931   environment        9\n",
      "4      560897827     computers        3\n",
      "...          ...           ...      ...\n",
      "19995  541809725         audio        7\n",
      "19996  520011224         audio        7\n",
      "19997  513205210     computers        3\n",
      "19998  513678024       kitchen        6\n",
      "19999  559275712         audio        7\n",
      "\n",
      "[20000 rows x 3 columns]\n"
     ]
    }
   ],
   "execution_count": 8
  },
  {
   "metadata": {
    "ExecuteTime": {
     "end_time": "2025-01-10T08:28:27.449219Z",
     "start_time": "2025-01-10T08:28:27.430057Z"
    }
   },
   "cell_type": "code",
   "source": [
    "# 聚类中心特征分析\n",
    "import numpy as np\n",
    "\n",
    "# 聚类中心\n",
    "cluster_centers = kmeans.cluster_centers_\n",
    "\n",
    "# 聚类数\n",
    "num_clusters = len(cluster_centers)\n",
    "\n",
    "# 按 cluster 分组，统计各类特征\n",
    "grouped = data.groupby(\"cluster\")\n",
    "\n",
    "# 统计每个聚类中 `main_category` 的分布\n",
    "for cluster_id, group in grouped:\n",
    "    print(f\"Cluster {cluster_id}:\")\n",
    "    print(group[\"main_category\"].value_counts(normalize=True))  # 输出类别分布占比\n"
   ],
   "id": "cf186f1b3ead23a",
   "outputs": [
    {
     "name": "stdout",
     "output_type": "stream",
     "text": [
      "Cluster 0:\n",
      "main_category\n",
      "medicine    1.0\n",
      "Name: proportion, dtype: float64\n",
      "Cluster 1:\n",
      "main_category\n",
      "auto    1.0\n",
      "Name: proportion, dtype: float64\n",
      "Cluster 2:\n",
      "main_category\n",
      "furniture    1.0\n",
      "Name: proportion, dtype: float64\n",
      "Cluster 3:\n",
      "main_category\n",
      "computers    1.0\n",
      "Name: proportion, dtype: float64\n",
      "Cluster 4:\n",
      "main_category\n",
      "video    1.0\n",
      "Name: proportion, dtype: float64\n",
      "Cluster 5:\n",
      "main_category\n",
      "apparel    1.0\n",
      "Name: proportion, dtype: float64\n",
      "Cluster 6:\n",
      "main_category\n",
      "kitchen    1.0\n",
      "Name: proportion, dtype: float64\n",
      "Cluster 7:\n",
      "main_category\n",
      "audio    1.0\n",
      "Name: proportion, dtype: float64\n",
      "Cluster 8:\n",
      "main_category\n",
      "construction    0.97772\n",
      "country_yard    0.02228\n",
      "Name: proportion, dtype: float64\n",
      "Cluster 9:\n",
      "main_category\n",
      "environment    1.0\n",
      "Name: proportion, dtype: float64\n",
      "Cluster 10:\n",
      "Series([], Name: proportion, dtype: float64)\n",
      "Cluster 11:\n",
      "main_category\n",
      "kids    1.0\n",
      "Name: proportion, dtype: float64\n",
      "Cluster 12:\n",
      "main_category\n",
      "sport    1.0\n",
      "Name: proportion, dtype: float64\n",
      "Cluster 13:\n",
      "main_category\n",
      "camera    1.0\n",
      "Name: proportion, dtype: float64\n"
     ]
    }
   ],
   "execution_count": 13
  },
  {
   "metadata": {},
   "cell_type": "markdown",
   "source": "# F1 score",
   "id": "14e3f8715ee9deb3"
  },
  {
   "metadata": {
    "ExecuteTime": {
     "end_time": "2025-01-10T08:33:08.265266Z",
     "start_time": "2025-01-10T08:33:08.236384Z"
    }
   },
   "cell_type": "code",
   "source": [
    "# 定义 cluster 到 label 的映射\n",
    "cluster_to_label = {\n",
    "    0: \"Maker\",            # medicine\n",
    "    1: \"Car_Enthusiast\",   # auto\n",
    "    2: \"Homebody\",         # furniture\n",
    "    3: \"Geek\",             # computers\n",
    "    4: \"Film_Buff\",        # video\n",
    "    5: \"Fashionista\",      # apparel\n",
    "    6: \"Culinarian\",       # kitchen\n",
    "    7: \"Audiophile\",       # audio\n",
    "    8: \"Builder\",          # construction / country_yard\n",
    "    9: \"Environmentalist\", # environment\n",
    "    10: \"Unknown\",         # Empty cluster\n",
    "    11: \"Parent\",          # kids\n",
    "    12: \"Athlete\",         # sport\n",
    "    13: \"Photographer\",    # camera\n",
    "}\n",
    "\n",
    "# 将 cluster 转换为标签\n",
    "data[\"predicted_label\"] = data[\"cluster\"].map(cluster_to_label)"
   ],
   "id": "6dbea2188f122d2a",
   "outputs": [],
   "execution_count": 14
  },
  {
   "metadata": {
    "ExecuteTime": {
     "end_time": "2025-01-10T08:33:08.973121Z",
     "start_time": "2025-01-10T08:33:08.969019Z"
    }
   },
   "cell_type": "code",
   "source": [
    "import pandas as pd\n",
    "from sklearn.metrics import classification_report, f1_score\n",
    "from scipy.optimize import linear_sum_assignment\n",
    "from sklearn.preprocessing import LabelEncoder"
   ],
   "id": "13ead5f1045910ed",
   "outputs": [],
   "execution_count": 15
  },
  {
   "metadata": {
    "ExecuteTime": {
     "end_time": "2025-01-10T08:40:00.846972Z",
     "start_time": "2025-01-10T08:40:00.805216Z"
    }
   },
   "cell_type": "code",
   "source": [
    "label_data = pd.read_csv(\"/Users/cookie/Desktop/Test/chunk_0_final_labeled.csv\")  # 包含 user_id 和 labels 列\n",
    "need = ['user_id', 'labels']\n",
    "label_data = label_data[need]\n",
    "\n",
    "label_data = label_data[label_data['labels'].notna()]\n",
    "\n",
    "label_data"
   ],
   "id": "43ea87052a89ce1f",
   "outputs": [
    {
     "data": {
      "text/plain": [
       "        user_id                            labels\n",
       "0     519770564                       Maker.Sport\n",
       "1     514292868                        Culinarian\n",
       "2     565527133                        Culinarian\n",
       "3     514066699                  Fashionista.Geek\n",
       "4     542691448              Fashionista.Homebody\n",
       "...         ...                               ...\n",
       "1010  549530613                       Fashionista\n",
       "1011  514358357   Car_Enthusiast.Media_Aficionado\n",
       "1012  546309510                   Culinarian.Geek\n",
       "1013  562298413  Audiophile.Geek.Media_Aficionado\n",
       "1014  527406214                         Caregiver\n",
       "\n",
       "[1015 rows x 2 columns]"
      ],
      "text/html": [
       "<div>\n",
       "<style scoped>\n",
       "    .dataframe tbody tr th:only-of-type {\n",
       "        vertical-align: middle;\n",
       "    }\n",
       "\n",
       "    .dataframe tbody tr th {\n",
       "        vertical-align: top;\n",
       "    }\n",
       "\n",
       "    .dataframe thead th {\n",
       "        text-align: right;\n",
       "    }\n",
       "</style>\n",
       "<table border=\"1\" class=\"dataframe\">\n",
       "  <thead>\n",
       "    <tr style=\"text-align: right;\">\n",
       "      <th></th>\n",
       "      <th>user_id</th>\n",
       "      <th>labels</th>\n",
       "    </tr>\n",
       "  </thead>\n",
       "  <tbody>\n",
       "    <tr>\n",
       "      <th>0</th>\n",
       "      <td>519770564</td>\n",
       "      <td>Maker.Sport</td>\n",
       "    </tr>\n",
       "    <tr>\n",
       "      <th>1</th>\n",
       "      <td>514292868</td>\n",
       "      <td>Culinarian</td>\n",
       "    </tr>\n",
       "    <tr>\n",
       "      <th>2</th>\n",
       "      <td>565527133</td>\n",
       "      <td>Culinarian</td>\n",
       "    </tr>\n",
       "    <tr>\n",
       "      <th>3</th>\n",
       "      <td>514066699</td>\n",
       "      <td>Fashionista.Geek</td>\n",
       "    </tr>\n",
       "    <tr>\n",
       "      <th>4</th>\n",
       "      <td>542691448</td>\n",
       "      <td>Fashionista.Homebody</td>\n",
       "    </tr>\n",
       "    <tr>\n",
       "      <th>...</th>\n",
       "      <td>...</td>\n",
       "      <td>...</td>\n",
       "    </tr>\n",
       "    <tr>\n",
       "      <th>1010</th>\n",
       "      <td>549530613</td>\n",
       "      <td>Fashionista</td>\n",
       "    </tr>\n",
       "    <tr>\n",
       "      <th>1011</th>\n",
       "      <td>514358357</td>\n",
       "      <td>Car_Enthusiast.Media_Aficionado</td>\n",
       "    </tr>\n",
       "    <tr>\n",
       "      <th>1012</th>\n",
       "      <td>546309510</td>\n",
       "      <td>Culinarian.Geek</td>\n",
       "    </tr>\n",
       "    <tr>\n",
       "      <th>1013</th>\n",
       "      <td>562298413</td>\n",
       "      <td>Audiophile.Geek.Media_Aficionado</td>\n",
       "    </tr>\n",
       "    <tr>\n",
       "      <th>1014</th>\n",
       "      <td>527406214</td>\n",
       "      <td>Caregiver</td>\n",
       "    </tr>\n",
       "  </tbody>\n",
       "</table>\n",
       "<p>1015 rows × 2 columns</p>\n",
       "</div>"
      ]
     },
     "execution_count": 26,
     "metadata": {},
     "output_type": "execute_result"
    }
   ],
   "execution_count": 26
  },
  {
   "metadata": {
    "ExecuteTime": {
     "end_time": "2025-01-10T08:40:02.523822Z",
     "start_time": "2025-01-10T08:40:02.516639Z"
    }
   },
   "cell_type": "code",
   "source": [
    "# 提取主标签\n",
    "label_data['true_label'] = label_data['labels'].str.split('.').str[0]"
   ],
   "id": "52e5400590ffa277",
   "outputs": [],
   "execution_count": 27
  },
  {
   "metadata": {
    "ExecuteTime": {
     "end_time": "2025-01-10T08:40:04.861869Z",
     "start_time": "2025-01-10T08:40:04.851004Z"
    }
   },
   "cell_type": "code",
   "source": [
    "# 合并原始标签和预测标签\n",
    "labeled_user_ids = label_data['user_id'].tolist()\n",
    "predicted_labels_df = data[data['user_id'].isin(labeled_user_ids)].copy()\n",
    "\n",
    "merged_data = label_data.merge(predicted_labels_df, on=\"user_id\", how=\"inner\")\n",
    "\n",
    "# 检查合并结果\n",
    "print(merged_data[[\"user_id\", \"predicted_label\", \"true_label\"]])"
   ],
   "id": "7018b6aa539d67f8",
   "outputs": [
    {
     "name": "stdout",
     "output_type": "stream",
     "text": [
      "        user_id predicted_label      true_label\n",
      "0     519770564         Builder           Maker\n",
      "1     514292868      Culinarian      Culinarian\n",
      "2     565527133      Culinarian      Culinarian\n",
      "3     514066699     Fashionista     Fashionista\n",
      "4     542691448     Fashionista     Fashionista\n",
      "...         ...             ...             ...\n",
      "1010  549530613     Fashionista     Fashionista\n",
      "1011  514358357  Car_Enthusiast  Car_Enthusiast\n",
      "1012  546309510            Geek      Culinarian\n",
      "1013  562298413            Geek      Audiophile\n",
      "1014  527406214          Parent       Caregiver\n",
      "\n",
      "[1015 rows x 3 columns]\n"
     ]
    }
   ],
   "execution_count": 28
  },
  {
   "metadata": {
    "ExecuteTime": {
     "end_time": "2025-01-10T08:41:43.809014Z",
     "start_time": "2025-01-10T08:41:43.803868Z"
    }
   },
   "cell_type": "code",
   "source": [
    "from sklearn.metrics import precision_recall_fscore_support\n",
    "\n",
    "true_labels = merged_data[\"true_label\"]\n",
    "predicted_labels = merged_data[\"predicted_label\"]\n"
   ],
   "id": "56b9081e2155862c",
   "outputs": [],
   "execution_count": 30
  },
  {
   "metadata": {
    "ExecuteTime": {
     "end_time": "2025-01-10T08:42:05.134917Z",
     "start_time": "2025-01-10T08:42:05.115958Z"
    }
   },
   "cell_type": "code",
   "source": [
    "# Calculate Precision, Recall, F1 Score\n",
    "precision, recall, f1, _ = precision_recall_fscore_support(true_labels, predicted_labels, average='weighted')\n",
    "print(f\"Precision: {precision:.4f}\")\n",
    "print(f\"Recall: {recall:.4f}\")\n",
    "print(f\"F1 Score: {f1:.4f}\")"
   ],
   "id": "c3022119aefe2a16",
   "outputs": [
    {
     "name": "stdout",
     "output_type": "stream",
     "text": [
      "Precision: 0.7881\n",
      "Recall: 0.6512\n",
      "F1 Score: 0.7032\n"
     ]
    },
    {
     "name": "stderr",
     "output_type": "stream",
     "text": [
      "/opt/anaconda3/envs/FYP/lib/python3.12/site-packages/sklearn/metrics/_classification.py:1565: UndefinedMetricWarning: Precision is ill-defined and being set to 0.0 in labels with no predicted samples. Use `zero_division` parameter to control this behavior.\n",
      "  _warn_prf(average, modifier, f\"{metric.capitalize()} is\", len(result))\n",
      "/opt/anaconda3/envs/FYP/lib/python3.12/site-packages/sklearn/metrics/_classification.py:1565: UndefinedMetricWarning: Recall is ill-defined and being set to 0.0 in labels with no true samples. Use `zero_division` parameter to control this behavior.\n",
      "  _warn_prf(average, modifier, f\"{metric.capitalize()} is\", len(result))\n"
     ]
    }
   ],
   "execution_count": 32
  },
  {
   "metadata": {},
   "cell_type": "markdown",
   "source": "# all-featuers",
   "id": "d984dce251f14d41"
  },
  {
   "metadata": {
    "ExecuteTime": {
     "end_time": "2025-01-10T07:27:22.684141Z",
     "start_time": "2025-01-10T07:27:19.377387Z"
    }
   },
   "cell_type": "code",
   "source": [
    "# 特征工程：聚合用户行为\n",
    "user_features = filtered_data.groupby('user_id').agg({\n",
    "    'filtered_category': lambda x: x.value_counts().to_dict(),  # 统计用户浏览的种类\n",
    "    'brand': 'nunique',  # 品牌数量\n",
    "    'price': ['mean', 'sum'],  # 平均价格和总消费\n",
    "    'event_type': 'count'  # 总事件数\n",
    "}).reset_index()\n",
    "\n",
    "user_features.columns = ['user_id', 'category_counts', 'brand_count', 'avg_price', 'total_spent', 'total_events']\n"
   ],
   "id": "aa9a047cfb16736d",
   "outputs": [],
   "execution_count": 5
  },
  {
   "metadata": {
    "ExecuteTime": {
     "end_time": "2025-01-10T07:27:59.244698Z",
     "start_time": "2025-01-10T07:27:59.045855Z"
    }
   },
   "cell_type": "code",
   "source": [
    "# 转换 category_counts 为特征列\n",
    "category_counts = pd.json_normalize(user_features['category_counts']).fillna(0)\n",
    "user_features = pd.concat([user_features.drop(columns=['category_counts']), category_counts], axis=1)"
   ],
   "id": "a93a9182303bc675",
   "outputs": [],
   "execution_count": 6
  },
  {
   "metadata": {
    "ExecuteTime": {
     "end_time": "2025-01-10T07:28:12.688187Z",
     "start_time": "2025-01-10T07:28:12.667951Z"
    }
   },
   "cell_type": "code",
   "source": [
    "# 数据标准化\n",
    "scaler = StandardScaler()\n",
    "scaled_features = scaler.fit_transform(user_features.drop(columns=['user_id']))"
   ],
   "id": "3833378779ee8c85",
   "outputs": [],
   "execution_count": 8
  },
  {
   "metadata": {
    "ExecuteTime": {
     "end_time": "2025-01-10T07:28:37.595860Z",
     "start_time": "2025-01-10T07:28:37.417260Z"
    }
   },
   "cell_type": "code",
   "source": [
    "# 应用 K-means\n",
    "kmeans = KMeans(n_clusters=5, random_state=42)  # 假设分3类\n",
    "user_features['cluster'] = kmeans.fit_predict(scaled_features)\n",
    "\n",
    "# 聚类结果\n",
    "print(user_features[['user_id', 'cluster']])\n"
   ],
   "id": "f0459a921f4da406",
   "outputs": [
    {
     "name": "stdout",
     "output_type": "stream",
     "text": [
      "         user_id  cluster\n",
      "0      315720851        0\n",
      "1      340041246        0\n",
      "2      367138781        0\n",
      "3      370076704        0\n",
      "4      384989212        0\n",
      "...          ...      ...\n",
      "76525  566253970        0\n",
      "76526  566254699        0\n",
      "76527  566257884        3\n",
      "76528  566259665        0\n",
      "76529  566275254        0\n",
      "\n",
      "[76530 rows x 2 columns]\n"
     ]
    }
   ],
   "execution_count": 9
  }
 ],
 "metadata": {
  "kernelspec": {
   "display_name": "Python 3",
   "language": "python",
   "name": "python3"
  },
  "language_info": {
   "codemirror_mode": {
    "name": "ipython",
    "version": 2
   },
   "file_extension": ".py",
   "mimetype": "text/x-python",
   "name": "python",
   "nbconvert_exporter": "python",
   "pygments_lexer": "ipython2",
   "version": "2.7.6"
  }
 },
 "nbformat": 4,
 "nbformat_minor": 5
}
