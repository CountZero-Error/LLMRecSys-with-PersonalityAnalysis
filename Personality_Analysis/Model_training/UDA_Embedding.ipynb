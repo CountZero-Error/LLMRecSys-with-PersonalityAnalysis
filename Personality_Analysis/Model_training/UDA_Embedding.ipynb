{
 "cells": [
  {
   "cell_type": "code",
   "id": "initial_id",
   "metadata": {
    "ExecuteTime": {
     "end_time": "2025-01-09T13:22:01.428213Z",
     "start_time": "2025-01-09T13:21:58.717224Z"
    }
   },
   "source": [
    "from sentence_transformers import SentenceTransformer, util\n",
    "from nltk.corpus import wordnet\n",
    "from datasets import Dataset\n",
    "from getpass import getpass\n",
    "from tqdm import tqdm\n",
    "import pandas as pd\n",
    "import numpy as np\n",
    "import random\n",
    "import nltk\n",
    "import os"
   ],
   "outputs": [],
   "execution_count": 1
  },
  {
   "cell_type": "code",
   "id": "73f4ee525042b56",
   "metadata": {
    "ExecuteTime": {
     "end_time": "2025-01-09T13:22:01.433879Z",
     "start_time": "2025-01-09T13:22:01.431762Z"
    }
   },
   "source": [
    "# access_token\n",
    "access_token = getpass()\n",
    "os.environ[\"HUGGINGFACEHUB_API_TOKEN\"] = access_token"
   ],
   "outputs": [],
   "execution_count": 2
  },
  {
   "cell_type": "code",
   "id": "5c7e19d1b418b388",
   "metadata": {
    "ExecuteTime": {
     "end_time": "2025-01-09T13:22:06.106831Z",
     "start_time": "2025-01-09T13:22:02.565969Z"
    }
   },
   "source": [
    "# Load Embedding Model\n",
    "ST = SentenceTransformer('sentence-transformers/all-MiniLM-L6-v2')"
   ],
   "outputs": [],
   "execution_count": 3
  },
  {
   "metadata": {},
   "cell_type": "markdown",
   "source": "# UDA(Unsupervised Data Augmentation)",
   "id": "b58ddb596fe9ff8e"
  },
  {
   "cell_type": "code",
   "id": "758f4f7c07ba28d3",
   "metadata": {
    "ExecuteTime": {
     "end_time": "2025-01-09T13:22:06.572478Z",
     "start_time": "2025-01-09T13:22:06.135648Z"
    }
   },
   "source": [
    "# Download necessary NLTK data\n",
    "nltk.download(\"wordnet\")\n",
    "nltk.download(\"omw-1.4\")"
   ],
   "outputs": [
    {
     "name": "stderr",
     "output_type": "stream",
     "text": [
      "[nltk_data] Downloading package wordnet to /Users/cookie/nltk_data...\n",
      "[nltk_data]   Package wordnet is already up-to-date!\n",
      "[nltk_data] Downloading package omw-1.4 to /Users/cookie/nltk_data...\n",
      "[nltk_data]   Package omw-1.4 is already up-to-date!\n"
     ]
    },
    {
     "data": {
      "text/plain": [
       "True"
      ]
     },
     "execution_count": 4,
     "metadata": {},
     "output_type": "execute_result"
    }
   ],
   "execution_count": 4
  },
  {
   "cell_type": "code",
   "id": "4731d056a202c439",
   "metadata": {},
   "source": [
    "def get_relevant_synonyms(word):\n",
    "    \"\"\"Fetch relevant synonyms of a given word using WordNet.\"\"\"\n",
    "    synonyms = set()\n",
    "    for syn in wordnet.synsets(word):\n",
    "        for lemma in syn.lemmas():\n",
    "            # Only include single-word synonyms\n",
    "            synonym = lemma.name().replace(\"_\", \" \")\n",
    "            if \" \" not in synonym and synonym.lower() != word.lower():  # Avoid multi-word and self-replacement\n",
    "                synonyms.add(synonym)\n",
    "\n",
    "\n",
    "    fallback_synonyms = {\n",
    "        \"construction\": [\"building\", \"structure\", \"development\"],\n",
    "        \"tools\": [\"equipment\",  \"gear\"],\n",
    "        \"light\": [\"illumination\", \"lighting\", \"brightness\"],\n",
    "        \"welding\": [\"fusing\", \"melting\", \"fusion\"],\n",
    "        \"pump\": [\"compressor\", \"dispenser\", \"motor\"],\n",
    "        \"generator\": [\"alternator\", \"engine\", \"dynamo\"],\n",
    "        \"saw\": [\"cutter\", \"blade\", \"handsaw\"],\n",
    "        \"drill\": [\"borer\", \"perforator\", \"auger\"],\n",
    "        \"painting\": [\"decorating\", \"coating\", \"artwork\"],\n",
    "        \"screw\": [\"fastener\", \"bolt\", \"pin\"],\n",
    "        \"soldering\": [\"brazing\", \"tinning\", \"sealing\"],\n",
    "        \"components\": [\"parts\", \"modules\", \"units\"],\n",
    "        \"faucet\": [\"tap\", \"valve\", \"spigot\"],\n",
    "        \"appliances\": [\"devices\", \"gadgets\", \"machines\"],\n",
    "        \"personal\": [\"individual\", \"private\", \"self-care\"],\n",
    "        \"massager\": [\"relaxer\", \"kneader\", \"stimulator\"],\n",
    "        \"hair_cutter\": [\"trimmer\", \"clipper\", \"razor\"],\n",
    "        \"scales\": [\"weighing_machine\", \"balance\", \"measuring_tool\"],\n",
    "        \"environment\": [\"surroundings\", \"conditions\", \"ecosystem\"],\n",
    "        \"vacuum\": [\"cleaner\", \"suction\", \"hoover\"],\n",
    "        \"air_heater\": [\"warmer\", \"furnace\", \"radiator\"],\n",
    "        \"air_conditioner\": [\"cooler\", \"AC\", ],\n",
    "        \"climate\": [\"weather\", \"atmosphere\", \"temperature\"],\n",
    "        \"water_heater\": [\"geyser\", \"boiler\"],\n",
    "        \"fan\": [\"ventilator\", \"propeller\"],\n",
    "        \"kitchen\": [\"cooking\", \"culinary\"],\n",
    "        \"washer\": [\"laundry_machine\", \"washing_machine\"],\n",
    "        \"refrigerators\": [\"freezers\",  \"chillers\"],\n",
    "        \"oven\": [\"stove\", \"baking_device\"],\n",
    "        \"kettle\": [ \"teapot\"],\n",
    "        \"toaster\": [\"browner\", \"griller\", \"toasting_device\"],\n",
    "        \"grill\": [\"barbecue\", \"broiler\"],\n",
    "        \"hood\": [\"vent\", \"extractor_hood\"],\n",
    "        \"mixer\": [ \"beater\"],\n",
    "        \"juicer\": [\"squeezer\", \"press\"],\n",
    "        \"blender\": [\"liquidizer\"],\n",
    "        \"dishwasher\": [\"dish_cleaner\", \"cleaning_machine\"],\n",
    "        \"steam_cooker\": [\"steamer\", \"pressure_cooker\"],\n",
    "        \"meat_grinder\": [\"mincer\", \"chopper\"],\n",
    "        \"coffee_grinder\": [\"mill\", \"bean_grinder\"],\n",
    "        \"hob\": [\"cooktop\",  \"range\"],\n",
    "        \"coffee_machine\": [\"espresso_machine\", \"brewer\", \"coffee_maker\"],\n",
    "        \"fryer\": [\"deep_fryer\",  \"roaster\"],\n",
    "        \"microwave\": [\"heater\"],\n",
    "        \"notebook\": [\"laptop\", \"netbook\", \"ultrabook\"],\n",
    "        \"power_supply\": [\"PSU\", \"adapter\", \"charger\"],\n",
    "        \"memory\": [\"RAM\", \"storage\", \"cache\"],\n",
    "        \"cooler\": [\"chiller\",  \"fan\"],\n",
    "        \"motherboard\": [\"mainboard\", \"system_board\", \"logic_board\"],\n",
    "        \"videocards\": [\"GPUs\", \"graphics_cards\", \"video_adapters\"],\n",
    "        \"hdd\": [\"hard_drive\", \"storage_device\", \"disk\"],\n",
    "        \"cpu\": [\"chip\", \"microprocessor\"],\n",
    "        \"sound_card\": [\"audio_adapter\", \"DAC\", \"audio_processor\"],\n",
    "        \"peripherals\": [\"add-ons\"],\n",
    "        \"printer\": [\"plotter\", \"copier\", \"scanner\"],\n",
    "        \"mouse\": [\"pointer\", \"trackpad\"],\n",
    "        \"monitor\": [\"screen\", \"display\", \"visualizer\"],\n",
    "        \"keyboard\": [\"keypad\", \"typewriter\"],\n",
    "        \"electronics\": [\"technology\"],\n",
    "        \"camera\": [\"photo_camera\", \"video_camera\", \"recorder\"],\n",
    "        \"tv\": [\"television\"],\n",
    "        \"projector\": [\"beamer\"],\n",
    "        \"audio\": [\"sound\", \"stereo\", \"music\"],\n",
    "        \"headphone\": [\"earphones\", \"headset\"],\n",
    "        \"music_tools\": [\"instruments\", \"musical_devices\"],\n",
    "        \"subwoofer\": [\"woofer\",\"bass_system\"],\n",
    "        \"microphone\": [\"mic\",  \"audio_device\"],\n",
    "        \"shoes\": [\"footwear\", \"boots\"],\n",
    "        \"sandals\": [\"flip_flops\", \"open_shoes\"],\n",
    "        \"espadrilles\": [\"casual_shoes\", \"canvas_shoes\"],\n",
    "        \"ballet_shoes\": [\"flats\", \"dancing_shoes\", \"ballet_slippers\"],\n",
    "        \"furniture\": [\"fixtures\", \"home_decor\", \"furnishings\"],\n",
    "        \"living_room\": [\"lounge\", \"sitting-room\", \"parlor\"],\n",
    "        \"chair\": [\"armchair\"],\n",
    "        \"cabinet\": [\"cupboard\", \"wardrobe\", \"storage_unit\"],\n",
    "        \"sofa\": [\"couch\", \"settee\", \"lounger\"],\n",
    "        \"shelving\": [\"racks\", \"shelves\"],\n",
    "        \"bedroom\": [\"sleeping_area\"],\n",
    "        \"bed\": [\"cot\", \"mattress\", \"bunk\"],\n",
    "        \"pillow\": [\"cushion\", \"headrest\", \"bolster\"],\n",
    "        \"blanket\": [\"quilt\", \"duvet\", \"cover\"],\n",
    "        \"table\": [\"desk\", \"counter\"],\n",
    "        \"bathroom\": [\"restroom\", \"washroom\", \"shower-room\"],\n",
    "        \"bath\": [\"bathtub\", \"soak\", \"tub\"],\n",
    "        \"toilet\": [\"lavatory\", \"commode\"],\n",
    "        \"auto\": [\"automobile\", \"vehicle\"],\n",
    "        \"compressor\": [\"air_compressor\"],\n",
    "        \"radar\": [\"detector\", \"sensor\"],\n",
    "        \"videoregister\": [\"dash-cam\", \"Car-DVR\"],\n",
    "        \"anti_freeze\": [\"coolant\", \"defroster\"],\n",
    "        \"winch\": [\"hoist\", \"pulley\", \"crane\"],\n",
    "        \"parktronic\": [\"parking_sensor\", \"assistant\"],\n",
    "        \"alarm\": [\"alert\", \"warning\", \"buzzer\"],\n",
    "        \"player\": [\"media_player\", \"entertainer\"],\n",
    "        \"kids\": [\"children\", \"youth\", \"infants\"],\n",
    "        \"diapers\": [\"nappies\", \"pants\", \"huggies\"],\n",
    "        \"medicine\": [\"healthcare\", \"pharmacy\", \"treatment\"],\n",
    "        \"tonometer\": [\"pressure_meter\", \"gauge\"],\n",
    "        \"country_yard\": [\"garden\", \"backyard\", \"farm\"],\n",
    "        \"hammok\": [\"swing\", \"hammock\"],\n",
    "        \"bench\": [\"long_chair\"]\n",
    "    }\n",
    "\n",
    "\n",
    "    # Add fallback synonyms if WordNet lacks results\n",
    "    if word in fallback_synonyms:\n",
    "        synonyms.update(fallback_synonyms[word])\n",
    "\n",
    "    if not synonyms:\n",
    "        return []  # No synonyms available\n",
    "\n",
    "\n",
    "    # Compute semantic similarity between the original word and its synonyms\n",
    "    original_embedding = ST.encode(word, convert_to_tensor=True)\n",
    "    synonym_scores = []\n",
    "    for synonym in synonyms:\n",
    "        synonym_embedding = ST.encode(synonym, convert_to_tensor=True)\n",
    "        similarity_score = util.cos_sim(original_embedding, synonym_embedding).item()\n",
    "        synonym_scores.append((synonym, similarity_score))\n",
    "\n",
    "    # Filter synonyms with a high similarity threshold\n",
    "    relevant_synonyms = [syn for syn, score in synonym_scores if score > 0.7]\n",
    "    return relevant_synonyms"
   ],
   "outputs": [],
   "execution_count": null
  },
  {
   "cell_type": "code",
   "id": "611c9082f8f013f0",
   "metadata": {
    "ExecuteTime": {
     "end_time": "2025-01-09T13:22:11.359673Z",
     "start_time": "2025-01-09T13:22:11.356509Z"
    }
   },
   "source": [
    "def augment_category_code(x):\n",
    "    \"\"\"Replace words in category_code with semantically relevant synonyms.\"\"\"\n",
    "    words = x.split()  # Split by spaces\n",
    "    augmented_words = []\n",
    "    \n",
    "    for word in words:\n",
    "        synonyms = get_relevant_synonyms(word)\n",
    "        if synonyms:\n",
    "            augmented_words.append(random.choice(synonyms))\n",
    "        else:\n",
    "            augmented_words.append(word)\n",
    "            \n",
    "    return \" \".join(augmented_words)"
   ],
   "outputs": [],
   "execution_count": 6
  },
  {
   "cell_type": "code",
   "id": "34416ac14504116e",
   "metadata": {
    "ExecuteTime": {
     "end_time": "2025-01-09T13:22:13.205416Z",
     "start_time": "2025-01-09T13:22:12.458336Z"
    }
   },
   "source": "category_df = pd.read_csv('/Users/cookie/Desktop/Final_run/2019-Oct.clean.csv').dropna(subset=['category_code'])",
   "outputs": [],
   "execution_count": 7
  },
  {
   "cell_type": "code",
   "id": "dc11b3dfd90d1aaa",
   "metadata": {
    "ExecuteTime": {
     "end_time": "2025-01-09T13:22:15.433815Z",
     "start_time": "2025-01-09T13:22:15.235438Z"
    }
   },
   "source": [
    "category_str = [str(' '.join(elm.split('.'))) for elm in category_df['category_code']]"
   ],
   "outputs": [],
   "execution_count": 8
  },
  {
   "cell_type": "code",
   "id": "d19386b707803133",
   "metadata": {
    "ExecuteTime": {
     "end_time": "2025-01-09T13:22:21.230024Z",
     "start_time": "2025-01-09T13:22:21.203702Z"
    }
   },
   "source": "category_dataset = Dataset.from_pandas(pd.DataFrame(category_df['user_id']))",
   "outputs": [],
   "execution_count": 9
  },
  {
   "cell_type": "code",
   "id": "d20e21d633f3c6f8",
   "metadata": {
    "ExecuteTime": {
     "end_time": "2025-01-09T13:25:40.557691Z",
     "start_time": "2025-01-09T13:25:39.664582Z"
    }
   },
   "source": [
    "category_dataset = category_dataset.add_column('category_code', category_str)\n",
    "category_dataset"
   ],
   "outputs": [
    {
     "data": {
      "text/plain": [
       "Dataset({\n",
       "    features: ['user_id', 'category_code'],\n",
       "    num_rows: 1235606\n",
       "})"
      ]
     },
     "execution_count": 10,
     "metadata": {},
     "output_type": "execute_result"
    }
   ],
   "execution_count": 10
  },
  {
   "cell_type": "code",
   "id": "2ac10a137a85c075",
   "metadata": {
    "ExecuteTime": {
     "end_time": "2025-01-09T13:25:56.349890Z",
     "start_time": "2025-01-09T13:25:41.431644Z"
    }
   },
   "source": [
    "augmented_col = []\n",
    "for x in tqdm(category_dataset['category_code']):\n",
    "    augmented_col.append(augment_category_code(x))"
   ],
   "outputs": [
    {
     "name": "stderr",
     "output_type": "stream",
     "text": [
      "100%|██████████| 1235606/1235606 [00:14<00:00, 85181.43it/s]\n"
     ]
    }
   ],
   "execution_count": 11
  },
  {
   "cell_type": "code",
   "id": "58c82b638d47994d",
   "metadata": {
    "ExecuteTime": {
     "end_time": "2025-01-09T13:25:57.242691Z",
     "start_time": "2025-01-09T13:25:56.362453Z"
    }
   },
   "source": [
    "category_dataset = category_dataset.add_column('augmented_category_code', augmented_col)\n",
    "category_dataset"
   ],
   "outputs": [
    {
     "data": {
      "text/plain": [
       "Dataset({\n",
       "    features: ['user_id', 'category_code', 'augmented_category_code'],\n",
       "    num_rows: 1235606\n",
       "})"
      ]
     },
     "execution_count": 12,
     "metadata": {},
     "output_type": "execute_result"
    }
   ],
   "execution_count": 12
  },
  {
   "metadata": {},
   "cell_type": "markdown",
   "source": "# Embedding",
   "id": "d00b8098a09dd8c9"
  },
  {
   "metadata": {
    "ExecuteTime": {
     "end_time": "2025-01-09T13:25:57.274568Z",
     "start_time": "2025-01-09T13:25:57.272900Z"
    }
   },
   "cell_type": "code",
   "source": [
    "def embed(batch, col_name):\n",
    "  return {\"embedding\": ST.encode(batch[col_name], device='mps', show_progress_bar=True)}"
   ],
   "id": "888a92549fe9f9a1",
   "outputs": [],
   "execution_count": 13
  },
  {
   "cell_type": "code",
   "id": "c58cdfc5a2433d84",
   "metadata": {
    "ExecuteTime": {
     "end_time": "2025-01-09T13:33:21.433391Z",
     "start_time": "2025-01-09T13:25:57.374781Z"
    }
   },
   "source": [
    "product_dataset = category_dataset.map(\n",
    "    embed,\n",
    "    fn_kwargs={'col_name': 'category_code'},\n",
    "    batched=True,\n",
    "    batch_size=round(category_dataset.shape[0]/10),\n",
    "    )"
   ],
   "outputs": [
    {
     "data": {
      "text/plain": [
       "Map:   0%|          | 0/1235606 [00:00<?, ? examples/s]"
      ],
      "application/vnd.jupyter.widget-view+json": {
       "version_major": 2,
       "version_minor": 0,
       "model_id": "a41d48affca84d8b8ce4dbc2310b94f9"
      }
     },
     "metadata": {},
     "output_type": "display_data"
    },
    {
     "data": {
      "text/plain": [
       "Batches:   0%|          | 0/3862 [00:00<?, ?it/s]"
      ],
      "application/vnd.jupyter.widget-view+json": {
       "version_major": 2,
       "version_minor": 0,
       "model_id": "b03ba303f84e4d4889a22da10447fa44"
      }
     },
     "metadata": {},
     "output_type": "display_data"
    },
    {
     "data": {
      "text/plain": [
       "Batches:   0%|          | 0/3862 [00:00<?, ?it/s]"
      ],
      "application/vnd.jupyter.widget-view+json": {
       "version_major": 2,
       "version_minor": 0,
       "model_id": "f38e0c2907784bada5419f531015ed52"
      }
     },
     "metadata": {},
     "output_type": "display_data"
    },
    {
     "data": {
      "text/plain": [
       "Batches:   0%|          | 0/3862 [00:00<?, ?it/s]"
      ],
      "application/vnd.jupyter.widget-view+json": {
       "version_major": 2,
       "version_minor": 0,
       "model_id": "177c772177fd45da98c6bacec4bc6817"
      }
     },
     "metadata": {},
     "output_type": "display_data"
    },
    {
     "data": {
      "text/plain": [
       "Batches:   0%|          | 0/3862 [00:00<?, ?it/s]"
      ],
      "application/vnd.jupyter.widget-view+json": {
       "version_major": 2,
       "version_minor": 0,
       "model_id": "baea69da0e524c2ba2087a47af305b7b"
      }
     },
     "metadata": {},
     "output_type": "display_data"
    },
    {
     "data": {
      "text/plain": [
       "Batches:   0%|          | 0/3862 [00:00<?, ?it/s]"
      ],
      "application/vnd.jupyter.widget-view+json": {
       "version_major": 2,
       "version_minor": 0,
       "model_id": "71f9e2d7058d4b29a296c77e4edb4c44"
      }
     },
     "metadata": {},
     "output_type": "display_data"
    },
    {
     "data": {
      "text/plain": [
       "Batches:   0%|          | 0/3862 [00:00<?, ?it/s]"
      ],
      "application/vnd.jupyter.widget-view+json": {
       "version_major": 2,
       "version_minor": 0,
       "model_id": "c67e3ad2b73f496ebd58664f24804258"
      }
     },
     "metadata": {},
     "output_type": "display_data"
    },
    {
     "data": {
      "text/plain": [
       "Batches:   0%|          | 0/3862 [00:00<?, ?it/s]"
      ],
      "application/vnd.jupyter.widget-view+json": {
       "version_major": 2,
       "version_minor": 0,
       "model_id": "7dde091055ff4dfa82961f22846f65a9"
      }
     },
     "metadata": {},
     "output_type": "display_data"
    },
    {
     "data": {
      "text/plain": [
       "Batches:   0%|          | 0/3862 [00:00<?, ?it/s]"
      ],
      "application/vnd.jupyter.widget-view+json": {
       "version_major": 2,
       "version_minor": 0,
       "model_id": "72dc5e4b3d724aac80b0b7150e9e797b"
      }
     },
     "metadata": {},
     "output_type": "display_data"
    },
    {
     "data": {
      "text/plain": [
       "Batches:   0%|          | 0/3862 [00:00<?, ?it/s]"
      ],
      "application/vnd.jupyter.widget-view+json": {
       "version_major": 2,
       "version_minor": 0,
       "model_id": "878b501a9dea49f38db6702ff9b5243e"
      }
     },
     "metadata": {},
     "output_type": "display_data"
    },
    {
     "data": {
      "text/plain": [
       "Batches:   0%|          | 0/3862 [00:00<?, ?it/s]"
      ],
      "application/vnd.jupyter.widget-view+json": {
       "version_major": 2,
       "version_minor": 0,
       "model_id": "8b3c62a894f44ef987921711fa4c938d"
      }
     },
     "metadata": {},
     "output_type": "display_data"
    }
   ],
   "execution_count": 14
  },
  {
   "metadata": {
    "ExecuteTime": {
     "end_time": "2025-01-09T13:41:50.960659Z",
     "start_time": "2025-01-09T13:33:21.452716Z"
    }
   },
   "cell_type": "code",
   "source": [
    "augmented_product_dataset = category_dataset.map(\n",
    "    embed,\n",
    "    fn_kwargs={'col_name': 'augmented_category_code'},\n",
    "    batched=True,\n",
    "    batch_size=round(category_dataset.shape[0]/10),\n",
    "    )"
   ],
   "id": "bd1e182882c6b079",
   "outputs": [
    {
     "data": {
      "text/plain": [
       "Map:   0%|          | 0/1235606 [00:00<?, ? examples/s]"
      ],
      "application/vnd.jupyter.widget-view+json": {
       "version_major": 2,
       "version_minor": 0,
       "model_id": "f8e9d5694deb46e59f572ad8b7c05b7f"
      }
     },
     "metadata": {},
     "output_type": "display_data"
    },
    {
     "data": {
      "text/plain": [
       "Batches:   0%|          | 0/3862 [00:00<?, ?it/s]"
      ],
      "application/vnd.jupyter.widget-view+json": {
       "version_major": 2,
       "version_minor": 0,
       "model_id": "e57547bb27884a0f9b29c7fba1af4633"
      }
     },
     "metadata": {},
     "output_type": "display_data"
    },
    {
     "data": {
      "text/plain": [
       "Batches:   0%|          | 0/3862 [00:00<?, ?it/s]"
      ],
      "application/vnd.jupyter.widget-view+json": {
       "version_major": 2,
       "version_minor": 0,
       "model_id": "bdb7fe2c1a994a56889574b3d53dcd4a"
      }
     },
     "metadata": {},
     "output_type": "display_data"
    },
    {
     "data": {
      "text/plain": [
       "Batches:   0%|          | 0/3862 [00:00<?, ?it/s]"
      ],
      "application/vnd.jupyter.widget-view+json": {
       "version_major": 2,
       "version_minor": 0,
       "model_id": "8d2b5d2ae8f344dcb1eecd947b83c6df"
      }
     },
     "metadata": {},
     "output_type": "display_data"
    },
    {
     "data": {
      "text/plain": [
       "Batches:   0%|          | 0/3862 [00:00<?, ?it/s]"
      ],
      "application/vnd.jupyter.widget-view+json": {
       "version_major": 2,
       "version_minor": 0,
       "model_id": "bae408bc5add42719ebc92f9a628fddf"
      }
     },
     "metadata": {},
     "output_type": "display_data"
    },
    {
     "data": {
      "text/plain": [
       "Batches:   0%|          | 0/3862 [00:00<?, ?it/s]"
      ],
      "application/vnd.jupyter.widget-view+json": {
       "version_major": 2,
       "version_minor": 0,
       "model_id": "99a41254248b4cca995f46a6bd03aca4"
      }
     },
     "metadata": {},
     "output_type": "display_data"
    },
    {
     "data": {
      "text/plain": [
       "Batches:   0%|          | 0/3862 [00:00<?, ?it/s]"
      ],
      "application/vnd.jupyter.widget-view+json": {
       "version_major": 2,
       "version_minor": 0,
       "model_id": "0d8acd33f484418caa1e07268fdfd152"
      }
     },
     "metadata": {},
     "output_type": "display_data"
    },
    {
     "data": {
      "text/plain": [
       "Batches:   0%|          | 0/3862 [00:00<?, ?it/s]"
      ],
      "application/vnd.jupyter.widget-view+json": {
       "version_major": 2,
       "version_minor": 0,
       "model_id": "46e5a67b9bb544deaf49927d7cf03f38"
      }
     },
     "metadata": {},
     "output_type": "display_data"
    },
    {
     "data": {
      "text/plain": [
       "Batches:   0%|          | 0/3862 [00:00<?, ?it/s]"
      ],
      "application/vnd.jupyter.widget-view+json": {
       "version_major": 2,
       "version_minor": 0,
       "model_id": "487d35d8ba8345aab2a6a421837ddd39"
      }
     },
     "metadata": {},
     "output_type": "display_data"
    },
    {
     "data": {
      "text/plain": [
       "Batches:   0%|          | 0/3862 [00:00<?, ?it/s]"
      ],
      "application/vnd.jupyter.widget-view+json": {
       "version_major": 2,
       "version_minor": 0,
       "model_id": "b4a0c81bbca949ae8c738ee092ea875c"
      }
     },
     "metadata": {},
     "output_type": "display_data"
    },
    {
     "data": {
      "text/plain": [
       "Batches:   0%|          | 0/3862 [00:00<?, ?it/s]"
      ],
      "application/vnd.jupyter.widget-view+json": {
       "version_major": 2,
       "version_minor": 0,
       "model_id": "55d3352604f04c2dab8c2809e4b94852"
      }
     },
     "metadata": {},
     "output_type": "display_data"
    }
   ],
   "execution_count": 15
  },
  {
   "metadata": {
    "ExecuteTime": {
     "end_time": "2025-01-09T13:41:50.998536Z",
     "start_time": "2025-01-09T13:41:50.985891Z"
    }
   },
   "cell_type": "code",
   "source": [
    "product_dataset = product_dataset.remove_columns('augmented_category_code')\n",
    "product_dataset"
   ],
   "id": "90de924b6cb60bb1",
   "outputs": [
    {
     "data": {
      "text/plain": [
       "Dataset({\n",
       "    features: ['user_id', 'category_code', 'embedding'],\n",
       "    num_rows: 1235606\n",
       "})"
      ]
     },
     "execution_count": 16,
     "metadata": {},
     "output_type": "execute_result"
    }
   ],
   "execution_count": 16
  },
  {
   "metadata": {
    "ExecuteTime": {
     "end_time": "2025-01-09T13:41:51.054121Z",
     "start_time": "2025-01-09T13:41:51.049585Z"
    }
   },
   "cell_type": "code",
   "source": [
    "augmented_product_dataset = augmented_product_dataset.remove_columns('category_code')\n",
    "augmented_product_dataset"
   ],
   "id": "fe15651ebe812f99",
   "outputs": [
    {
     "data": {
      "text/plain": [
       "Dataset({\n",
       "    features: ['user_id', 'augmented_category_code', 'embedding'],\n",
       "    num_rows: 1235606\n",
       "})"
      ]
     },
     "execution_count": 17,
     "metadata": {},
     "output_type": "execute_result"
    }
   ],
   "execution_count": 17
  },
  {
   "metadata": {},
   "cell_type": "markdown",
   "source": "# Calculate Average_Embedding",
   "id": "cc1087fae58937ae"
  },
  {
   "metadata": {
    "ExecuteTime": {
     "end_time": "2025-01-09T13:42:00.846345Z",
     "start_time": "2025-01-09T13:42:00.838117Z"
    }
   },
   "cell_type": "code",
   "source": [
    "def average(data):\n",
    "    embeddings = np.stack(data['embedding'].values)\n",
    "    avg = np.average(embeddings, axis=0)\n",
    "    return pd.Series({'average_embedding': avg})"
   ],
   "id": "4a94f9910c08281a",
   "outputs": [],
   "execution_count": 18
  },
  {
   "metadata": {
    "ExecuteTime": {
     "end_time": "2025-01-09T13:42:15.945623Z",
     "start_time": "2025-01-09T13:42:00.907543Z"
    }
   },
   "cell_type": "code",
   "source": [
    "ori_df = product_dataset.to_pandas()\n",
    "aug_df = augmented_product_dataset.to_pandas()"
   ],
   "id": "87997d9e4bc21b00",
   "outputs": [],
   "execution_count": 19
  },
  {
   "metadata": {
    "ExecuteTime": {
     "end_time": "2025-01-09T13:42:39.208248Z",
     "start_time": "2025-01-09T13:42:16.566902Z"
    }
   },
   "cell_type": "code",
   "source": [
    "ori_embedding_result = (\n",
    "    ori_df.groupby('user_id')\n",
    "    .apply(average)\n",
    ")"
   ],
   "id": "4891961add3c6617",
   "outputs": [
    {
     "name": "stderr",
     "output_type": "stream",
     "text": [
      "/var/folders/8v/2l510pj11sxcxr76w30lfxhw0000gn/T/ipykernel_6277/636994237.py:3: DeprecationWarning: DataFrameGroupBy.apply operated on the grouping columns. This behavior is deprecated, and in a future version of pandas the grouping columns will be excluded from the operation. Either pass `include_groups=False` to exclude the groupings or explicitly select the grouping columns after groupby to silence this warning.\n",
      "  .apply(average)\n"
     ]
    }
   ],
   "execution_count": 20
  },
  {
   "metadata": {
    "ExecuteTime": {
     "end_time": "2025-01-09T13:43:17.976403Z",
     "start_time": "2025-01-09T13:42:57.362501Z"
    }
   },
   "cell_type": "code",
   "source": [
    "aug_embedding_result = (\n",
    "    aug_df.groupby('user_id')\n",
    "    .apply(average)\n",
    ")"
   ],
   "id": "c1d5c6d24768c65e",
   "outputs": [
    {
     "name": "stderr",
     "output_type": "stream",
     "text": [
      "/var/folders/8v/2l510pj11sxcxr76w30lfxhw0000gn/T/ipykernel_6277/3941933443.py:3: DeprecationWarning: DataFrameGroupBy.apply operated on the grouping columns. This behavior is deprecated, and in a future version of pandas the grouping columns will be excluded from the operation. Either pass `include_groups=False` to exclude the groupings or explicitly select the grouping columns after groupby to silence this warning.\n",
      "  .apply(average)\n"
     ]
    }
   ],
   "execution_count": 21
  },
  {
   "metadata": {
    "ExecuteTime": {
     "end_time": "2025-01-09T13:43:18.106135Z",
     "start_time": "2025-01-09T13:43:18.098879Z"
    }
   },
   "cell_type": "code",
   "source": "print(ori_embedding_result)",
   "id": "3b26b92dad38dcab",
   "outputs": [
    {
     "name": "stdout",
     "output_type": "stream",
     "text": [
      "                                           average_embedding\n",
      "user_id                                                     \n",
      "260013793  [-0.033347193, 0.025289588, -0.011747345, 0.02...\n",
      "277655927  [-0.045145404, 0.065376855, -0.026705384, 0.00...\n",
      "315720851  [0.024227075, 0.0050282013, -0.00562369, -0.08...\n",
      "340041246  [-0.034396928, 0.016468745, 0.0050060693, -0.0...\n",
      "364727284  [-0.034195606, 0.019063387, -0.03365945, 0.008...\n",
      "...                                                      ...\n",
      "566265448  [-0.06395154, 0.042917244, -0.01117276, -0.051...\n",
      "566270060  [-0.039874908, 0.052562904, -0.0016835995, -0....\n",
      "566275254  [-0.079045564, 0.04183333, 0.008014798, 0.0041...\n",
      "566276537  [-0.05967588, 0.04580653, -0.03182595, -0.0767...\n",
      "566277436  [-0.02906748, 0.026667679, -0.057768565, 0.002...\n",
      "\n",
      "[112846 rows x 1 columns]\n"
     ]
    }
   ],
   "execution_count": 22
  },
  {
   "metadata": {
    "ExecuteTime": {
     "end_time": "2025-01-09T13:43:20.776647Z",
     "start_time": "2025-01-09T13:43:18.165088Z"
    }
   },
   "cell_type": "code",
   "source": [
    "original_embedding = Dataset.from_pandas(ori_embedding_result)\n",
    "augmented_embedding = Dataset.from_pandas(aug_embedding_result)"
   ],
   "id": "fc562f27f79ee7e1",
   "outputs": [],
   "execution_count": 23
  },
  {
   "metadata": {},
   "cell_type": "markdown",
   "source": "# Save Result",
   "id": "9f175cd33af5aeb7"
  },
  {
   "metadata": {
    "ExecuteTime": {
     "end_time": "2025-01-09T13:43:48.288587Z",
     "start_time": "2025-01-09T13:43:20.997548Z"
    }
   },
   "cell_type": "code",
   "source": [
    "print(f'[*] Uploading Product Information:')\n",
    "product_dataset.push_to_hub(\n",
    "    \"CookieLyu/Category_Codes\",\n",
    "    revision=\"1000k_embedded\",\n",
    "    token=access_token\n",
    ")"
   ],
   "id": "641811f60b88be28",
   "outputs": [
    {
     "name": "stdout",
     "output_type": "stream",
     "text": [
      "[*] Uploading Product Information:\n"
     ]
    },
    {
     "data": {
      "text/plain": [
       "Uploading the dataset shards:   0%|          | 0/4 [00:00<?, ?it/s]"
      ],
      "application/vnd.jupyter.widget-view+json": {
       "version_major": 2,
       "version_minor": 0,
       "model_id": "b5c37af3387e4c16b76071c12b2ef2e9"
      }
     },
     "metadata": {},
     "output_type": "display_data"
    },
    {
     "data": {
      "text/plain": [
       "Creating parquet from Arrow format:   0%|          | 0/309 [00:00<?, ?ba/s]"
      ],
      "application/vnd.jupyter.widget-view+json": {
       "version_major": 2,
       "version_minor": 0,
       "model_id": "a7096af6ca254fdc8e41b9f4eb441031"
      }
     },
     "metadata": {},
     "output_type": "display_data"
    },
    {
     "data": {
      "text/plain": [
       "Creating parquet from Arrow format:   0%|          | 0/309 [00:00<?, ?ba/s]"
      ],
      "application/vnd.jupyter.widget-view+json": {
       "version_major": 2,
       "version_minor": 0,
       "model_id": "195095f6d837432981c2b8b0cee027f5"
      }
     },
     "metadata": {},
     "output_type": "display_data"
    },
    {
     "data": {
      "text/plain": [
       "Creating parquet from Arrow format:   0%|          | 0/309 [00:00<?, ?ba/s]"
      ],
      "application/vnd.jupyter.widget-view+json": {
       "version_major": 2,
       "version_minor": 0,
       "model_id": "49fc9855fe5a4c2683459d80e9f1dc32"
      }
     },
     "metadata": {},
     "output_type": "display_data"
    },
    {
     "data": {
      "text/plain": [
       "Creating parquet from Arrow format:   0%|          | 0/309 [00:00<?, ?ba/s]"
      ],
      "application/vnd.jupyter.widget-view+json": {
       "version_major": 2,
       "version_minor": 0,
       "model_id": "dab31c1898184eaba6a0fe6ae2c719da"
      }
     },
     "metadata": {},
     "output_type": "display_data"
    },
    {
     "data": {
      "text/plain": [
       "README.md:   0%|          | 0.00/406 [00:00<?, ?B/s]"
      ],
      "application/vnd.jupyter.widget-view+json": {
       "version_major": 2,
       "version_minor": 0,
       "model_id": "bc40c42321c84f339f5f716d40c98d3a"
      }
     },
     "metadata": {},
     "output_type": "display_data"
    },
    {
     "data": {
      "text/plain": [
       "CommitInfo(commit_url='https://huggingface.co/datasets/CookieLyu/Category_Codes/commit/b4ded3a883c761d923d2d33d7bd8f46d2517e373', commit_message='Upload dataset', commit_description='', oid='b4ded3a883c761d923d2d33d7bd8f46d2517e373', pr_url=None, repo_url=RepoUrl('https://huggingface.co/datasets/CookieLyu/Category_Codes', endpoint='https://huggingface.co', repo_type='dataset', repo_id='CookieLyu/Category_Codes'), pr_revision=None, pr_num=None)"
      ]
     },
     "execution_count": 24,
     "metadata": {},
     "output_type": "execute_result"
    }
   ],
   "execution_count": 24
  },
  {
   "metadata": {
    "ExecuteTime": {
     "end_time": "2025-01-09T13:51:40.648433Z",
     "start_time": "2025-01-09T13:43:48.433125Z"
    }
   },
   "cell_type": "code",
   "source": [
    "print(f'[*] Uploading Product Information:')\n",
    "augmented_product_dataset.push_to_hub(\n",
    "    \"CookieLyu/Category_Codes\",\n",
    "    revision=\"1000k_embedded_aug\",\n",
    "    token=access_token\n",
    ")"
   ],
   "id": "124c2f22f80540b9",
   "outputs": [
    {
     "name": "stdout",
     "output_type": "stream",
     "text": [
      "[*] Uploading Product Information:\n"
     ]
    },
    {
     "data": {
      "text/plain": [
       "Uploading the dataset shards:   0%|          | 0/4 [00:00<?, ?it/s]"
      ],
      "application/vnd.jupyter.widget-view+json": {
       "version_major": 2,
       "version_minor": 0,
       "model_id": "acb3d5e4566c47e28e2250ffc1403efc"
      }
     },
     "metadata": {},
     "output_type": "display_data"
    },
    {
     "data": {
      "text/plain": [
       "Creating parquet from Arrow format:   0%|          | 0/309 [00:00<?, ?ba/s]"
      ],
      "application/vnd.jupyter.widget-view+json": {
       "version_major": 2,
       "version_minor": 0,
       "model_id": "2f8c38e611a74379b70ed55402e3aa34"
      }
     },
     "metadata": {},
     "output_type": "display_data"
    },
    {
     "data": {
      "text/plain": [
       "Creating parquet from Arrow format:   0%|          | 0/309 [00:00<?, ?ba/s]"
      ],
      "application/vnd.jupyter.widget-view+json": {
       "version_major": 2,
       "version_minor": 0,
       "model_id": "d3b67fb5dc224bebb08f29ffd7282aa9"
      }
     },
     "metadata": {},
     "output_type": "display_data"
    },
    {
     "data": {
      "text/plain": [
       "Creating parquet from Arrow format:   0%|          | 0/309 [00:00<?, ?ba/s]"
      ],
      "application/vnd.jupyter.widget-view+json": {
       "version_major": 2,
       "version_minor": 0,
       "model_id": "b15be15e0c33423bbc17ed0cb8718e7e"
      }
     },
     "metadata": {},
     "output_type": "display_data"
    },
    {
     "data": {
      "text/plain": [
       "Creating parquet from Arrow format:   0%|          | 0/309 [00:00<?, ?ba/s]"
      ],
      "application/vnd.jupyter.widget-view+json": {
       "version_major": 2,
       "version_minor": 0,
       "model_id": "c2a4e2367b264e8a9a544b3818e376ff"
      }
     },
     "metadata": {},
     "output_type": "display_data"
    },
    {
     "data": {
      "text/plain": [
       "README.md:   0%|          | 0.00/417 [00:00<?, ?B/s]"
      ],
      "application/vnd.jupyter.widget-view+json": {
       "version_major": 2,
       "version_minor": 0,
       "model_id": "cace13793fee46ae907bf2622e7169f9"
      }
     },
     "metadata": {},
     "output_type": "display_data"
    },
    {
     "data": {
      "text/plain": [
       "CommitInfo(commit_url='https://huggingface.co/datasets/CookieLyu/Category_Codes/commit/986f22b2357526883e0a5ed54841af0d43eb483e', commit_message='Upload dataset', commit_description='', oid='986f22b2357526883e0a5ed54841af0d43eb483e', pr_url=None, repo_url=RepoUrl('https://huggingface.co/datasets/CookieLyu/Category_Codes', endpoint='https://huggingface.co', repo_type='dataset', repo_id='CookieLyu/Category_Codes'), pr_revision=None, pr_num=None)"
      ]
     },
     "execution_count": 25,
     "metadata": {},
     "output_type": "execute_result"
    }
   ],
   "execution_count": 25
  },
  {
   "metadata": {
    "ExecuteTime": {
     "end_time": "2025-01-09T13:51:46.256207Z",
     "start_time": "2025-01-09T13:51:40.745046Z"
    }
   },
   "cell_type": "code",
   "source": [
    "print(f'[*] Uploading Product Information:')\n",
    "original_embedding.push_to_hub(\n",
    "    \"CookieLyu/Category_Codes\",\n",
    "    revision=\"1000k_average_embedded\",\n",
    "    token=access_token\n",
    ")"
   ],
   "id": "d617fad549e9bc5f",
   "outputs": [
    {
     "name": "stdout",
     "output_type": "stream",
     "text": [
      "[*] Uploading Product Information:\n"
     ]
    },
    {
     "data": {
      "text/plain": [
       "Uploading the dataset shards:   0%|          | 0/1 [00:00<?, ?it/s]"
      ],
      "application/vnd.jupyter.widget-view+json": {
       "version_major": 2,
       "version_minor": 0,
       "model_id": "ed7ff388f7f245368df9fc91f32703ff"
      }
     },
     "metadata": {},
     "output_type": "display_data"
    },
    {
     "data": {
      "text/plain": [
       "Creating parquet from Arrow format:   0%|          | 0/113 [00:00<?, ?ba/s]"
      ],
      "application/vnd.jupyter.widget-view+json": {
       "version_major": 2,
       "version_minor": 0,
       "model_id": "4c96ecb1728744cc84f51d9630534871"
      }
     },
     "metadata": {},
     "output_type": "display_data"
    },
    {
     "data": {
      "text/plain": [
       "README.md:   0%|          | 0.00/367 [00:00<?, ?B/s]"
      ],
      "application/vnd.jupyter.widget-view+json": {
       "version_major": 2,
       "version_minor": 0,
       "model_id": "f4d9283582a841f5a6ea02d139a66530"
      }
     },
     "metadata": {},
     "output_type": "display_data"
    },
    {
     "data": {
      "text/plain": [
       "CommitInfo(commit_url='https://huggingface.co/datasets/CookieLyu/Category_Codes/commit/4a823bd1afe6caf1d46007a1f639d30deaa3c7a2', commit_message='Upload dataset', commit_description='', oid='4a823bd1afe6caf1d46007a1f639d30deaa3c7a2', pr_url=None, repo_url=RepoUrl('https://huggingface.co/datasets/CookieLyu/Category_Codes', endpoint='https://huggingface.co', repo_type='dataset', repo_id='CookieLyu/Category_Codes'), pr_revision=None, pr_num=None)"
      ]
     },
     "execution_count": 26,
     "metadata": {},
     "output_type": "execute_result"
    }
   ],
   "execution_count": 26
  },
  {
   "metadata": {
    "ExecuteTime": {
     "end_time": "2025-01-09T13:53:06.650412Z",
     "start_time": "2025-01-09T13:51:46.319678Z"
    }
   },
   "cell_type": "code",
   "source": [
    "print(f'[*] Uploading Product Information:')\n",
    "augmented_embedding.push_to_hub(\n",
    "    \"CookieLyu/Category_Codes\",\n",
    "    revision=\"1000k_average_embedded_aug\",\n",
    "    token=access_token\n",
    ")"
   ],
   "id": "e64c6532187a0dbb",
   "outputs": [
    {
     "name": "stdout",
     "output_type": "stream",
     "text": [
      "[*] Uploading Product Information:\n"
     ]
    },
    {
     "data": {
      "text/plain": [
       "Uploading the dataset shards:   0%|          | 0/1 [00:00<?, ?it/s]"
      ],
      "application/vnd.jupyter.widget-view+json": {
       "version_major": 2,
       "version_minor": 0,
       "model_id": "491a5214a2384c439a102fe17dc528fb"
      }
     },
     "metadata": {},
     "output_type": "display_data"
    },
    {
     "data": {
      "text/plain": [
       "Creating parquet from Arrow format:   0%|          | 0/113 [00:00<?, ?ba/s]"
      ],
      "application/vnd.jupyter.widget-view+json": {
       "version_major": 2,
       "version_minor": 0,
       "model_id": "9a6a9113c9064a618293322b5385a5cd"
      }
     },
     "metadata": {},
     "output_type": "display_data"
    },
    {
     "data": {
      "text/plain": [
       "README.md:   0%|          | 0.00/367 [00:00<?, ?B/s]"
      ],
      "application/vnd.jupyter.widget-view+json": {
       "version_major": 2,
       "version_minor": 0,
       "model_id": "6e04a837955148d786550e396d9b102c"
      }
     },
     "metadata": {},
     "output_type": "display_data"
    },
    {
     "data": {
      "text/plain": [
       "CommitInfo(commit_url='https://huggingface.co/datasets/CookieLyu/Category_Codes/commit/1110ff27dcdaeef98264dddee6f6ab9553d9577d', commit_message='Upload dataset', commit_description='', oid='1110ff27dcdaeef98264dddee6f6ab9553d9577d', pr_url=None, repo_url=RepoUrl('https://huggingface.co/datasets/CookieLyu/Category_Codes', endpoint='https://huggingface.co', repo_type='dataset', repo_id='CookieLyu/Category_Codes'), pr_revision=None, pr_num=None)"
      ]
     },
     "execution_count": 27,
     "metadata": {},
     "output_type": "execute_result"
    }
   ],
   "execution_count": 27
  },
  {
   "metadata": {},
   "cell_type": "code",
   "outputs": [],
   "execution_count": null,
   "source": "",
   "id": "b60cb756efbccc0e"
  }
 ],
 "metadata": {
  "kernelspec": {
   "display_name": "FYP",
   "language": "python",
   "name": "fyp"
  },
  "language_info": {
   "codemirror_mode": {
    "name": "ipython",
    "version": 3
   },
   "file_extension": ".py",
   "mimetype": "text/x-python",
   "name": "python",
   "nbconvert_exporter": "python",
   "pygments_lexer": "ipython3",
   "version": "3.12.7"
  }
 },
 "nbformat": 4,
 "nbformat_minor": 5
}
